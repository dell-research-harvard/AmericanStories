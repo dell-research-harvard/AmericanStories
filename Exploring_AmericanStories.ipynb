{
  "cells": [
    {
      "cell_type": "markdown",
      "metadata": {
        "id": "sEmqg9lmFIrC"
      },
      "source": [
        "# Preamble\n",
        "\n",
        "Welcome to American Stories! Please run the next two cells (hint: hold Shift and press Enter three times) to install the required packages, and then we move to working with the American Stories dataset."
      ]
    },
    {
      "cell_type": "code",
      "execution_count": null,
      "metadata": {
        "colab": {
          "base_uri": "https://localhost:8080/"
        },
        "collapsed": true,
        "id": "kGYb12o6pRxS",
        "outputId": "885934f8-0084-4800-9315-d6c41beba2ac"
      },
      "outputs": [],
      "source": [
        "###Installs\n",
        "!pip install datasets\n",
        "!pip install ipympl"
      ]
    },
    {
      "cell_type": "code",
      "execution_count": null,
      "metadata": {
        "id": "FhSpl18kpXNu"
      },
      "outputs": [],
      "source": [
        "#Imports\n",
        "import json\n",
        "\n",
        "from datasets import load_dataset\n",
        "import tqdm as tq"
      ]
    },
    {
      "cell_type": "markdown",
      "metadata": {
        "id": "6I08ppmNDjO2"
      },
      "source": [
        "# Introduction\n",
        "\n",
        "Welcome to the intro notebook to AmericanStories. This is an expanded version of the intro notebook available here: https://colab.research.google.com/drive/1ifzTDNDtfrrTy-i7uaq3CALwIWa7GB9A?ts=648b98bf.\n",
        "\n",
        "In this notebook, we will do three things:\n",
        "\n",
        "1. Discuss ways to import the data\n",
        "2. Explore the way the data is structured, and show simple code snippets for accessing the data\n",
        "3. Provide three applications that would not be possible with keyword search based methods:\n",
        "\n",
        "A. We show how to find out whether an *article* mentions two terms simultaneously\n",
        "\n",
        "B. We show how to find out what other articles on a page with a keyword hit\n",
        "discuss\n",
        "\n",
        "C. We showcase a wire-cluster pipeline. Wire-clusters are same/similar articles\n",
        "that originate in a article that went out over the newswire. With this you\n",
        "can measure which places were exposed to the same newpaper content\n"
      ]
    },
    {
      "cell_type": "markdown",
      "metadata": {
        "id": "TiE_Y8_YDqUS"
      },
      "source": [
        "# Part I: importing data\n",
        "\n",
        "There are four main ways of accessing the American Stories data. A key contribution of our project is to make *articles* available, which requires linking together disjoint content regions. To take full advantange of this, we provide access to the data at the article level, or at the level of a scan, that is, one page of one edition of a single newspaper. For both ways, you can either query by year, or get a dump of all data. In sum, the four ways of interacting with our data:\n",
        "\n",
        "a. Article level, for selected years\n",
        "\n",
        "b. Article level, for all years\n",
        "\n",
        "c. Scan level, for selected years\n",
        "\n",
        "d. Scan level, for all years"
      ]
    },
    {
      "cell_type": "markdown",
      "metadata": {
        "id": "NdAbXSimptTy"
      },
      "source": [
        "### 1a: Article, level, for selected years\n",
        "\n",
        "We will now select all articles for the year 1900. Below we will explore the resulting dataset in detail"
      ]
    },
    {
      "cell_type": "code",
      "execution_count": null,
      "metadata": {
        "colab": {
          "base_uri": "https://localhost:8080/",
          "height": 231,
          "referenced_widgets": [
            "84e6ab00d3f0465390cbc263d039fded",
            "6f35914d6e7440b5ae0aa2b2b78f8b1b",
            "f65dfeddb7384640af45149a30592001",
            "357d0f8d761941bba67eddf5599afd88",
            "3b9fa6a4564f4adbab165cd431142825",
            "8ebcb68fb39f4e46b4db63504a36ce90",
            "4d8d17e5472242f98d60cb7f8996cb1d",
            "cc6a3099debe453d90ee2daeb3877f55",
            "f73a2e6188404a16814296de6c9bcd40",
            "fd7f89286aae452eb9973619d0c89ab2",
            "093a569370094db6afccf1449f28bde6",
            "2e0928f289884e15a89622d4fcc1d192",
            "f093012bfaa544d3b962ec558d8c9aea",
            "83d9f76428314a76999ba28caca7f344",
            "76ebb547365640c6a96b6fafa5b7fa48",
            "225f61ca7bbe4f19811ac8583dbfb9e0",
            "8cecfa4c277846e194782663201fb8d6",
            "f8a32f9f04ae42b785952a9a1c18f57d",
            "174ffcf1ef044f82a93c4a32d71011d3",
            "9c7490b04c134136acd04130a6fd4483",
            "7b38b7ebc30b49589d2108790b7c4f0d",
            "5da197a6d4314caf97caabd54e7f9cc9",
            "604d2dfa377f465da81e5cf772b909ce",
            "387b94ad81d146009d41ef307265f9b1",
            "dae6802ccea049b796dc1ee6fd801a43",
            "215697ad8a34435695282f9e90f39fb5",
            "d6fe3a39154c4a3c95a21ff6002c7122",
            "858e0ec2ad074c308c921794059e31fd",
            "a6812dcf448647f48681006dbdf35134",
            "7f781da546054ed58139434c6fc33231",
            "dbbce1d6c8bc4b888ab8993cc6a20c9b",
            "b4dd0cd1149949b09003b4bc8648ae38",
            "6f4434e4a86c46a598661d9d949f39f4",
            "786c938df69941e493225204e3456a8e",
            "17e4959b6b05417688d89e186aac3ce6",
            "90d4654a65c64d3d895944f576e78c33",
            "287ce4c4f2844b53b7100f385c15ce9a",
            "caf5ae5192544a20934c617aea005f4f",
            "ab077446eea0457abf6e23ea22076beb",
            "b9e17e7742184f09b9a7c9bed6138456",
            "91eb268392ad4610a022ad9eeb53b576",
            "561d9c14e6474c7c85ee22fc18cdb251",
            "eff1602988c34aa2a5534fb769f29f53",
            "de92e179bddf41238954fadddeb84a23",
            "c079275850ef46018c297b8ecfc6c9f6",
            "2101feaba90c4570be9699d688b8aaea",
            "d999aa6974704f57ac4aa3d4c17432b8",
            "4c98ec78511747d8b3cb310632515500",
            "4a7f8cfecd9a40799371eb0095bddc6f",
            "77f603d03c28440f849969976468dbf4",
            "c9418c6aabf947c8a253f685f66b7b7f",
            "ca1d9ec18a1043b3bb1beaa5fae8c1c0",
            "c4d0e1a17a064d479c64c2500d3dc5c6",
            "5b265c0c66a44a99a1a7bf06a83a6285",
            "2a4a6842252f4f3a8c25d2b062a6a9f5"
          ]
        },
        "id": "HHQEUQBKpavg",
        "outputId": "1cb6853d-f9c4-407b-9d33-862febfa36d8"
      },
      "outputs": [],
      "source": [
        "# let's start with deciding which years we want data for\n",
        "article_level_desired_years = [\"1900\", ]\n",
        "\n",
        "# now let's load our data, we have to specify the huggingface location of our\n",
        "# data, the fact that we want to have a subset of years, and our desired years\n",
        "dataset_article_level=load_dataset(\"dell-research-harvard/AmericanStories\",\n",
        "                                   \"subset_years\",\n",
        "                                   year_list=article_level_desired_years\n",
        "                                   )"
      ]
    },
    {
      "cell_type": "markdown",
      "metadata": {
        "id": "1Irgyei2GUXR"
      },
      "source": [
        "### 1b: article level, for all years\n",
        "The next cell contains to get all articles for all years. It is commented because running it requires a lot of bandwidth and data. Please uncomment, and then run to get all data"
      ]
    },
    {
      "cell_type": "code",
      "execution_count": null,
      "metadata": {
        "id": "HUf7tJQ8Gmre"
      },
      "outputs": [],
      "source": [
        "# Uncomment the next line and execute this cell to download the entire dataset\n",
        "#dataset_article_level_all_years = load_dataset(\"dell-research-harvard/AmericanStories\", \"all_years\")"
      ]
    },
    {
      "cell_type": "markdown",
      "metadata": {
        "id": "D5yr4cN-IE7j"
      },
      "source": [
        "### 1c: scan level, for selected years\n",
        "The next cell contains to get all scans for selected years."
      ]
    },
    {
      "cell_type": "code",
      "execution_count": null,
      "metadata": {
        "colab": {
          "base_uri": "https://localhost:8080/",
          "height": 99,
          "referenced_widgets": [
            "3a2614c8e44648ceafb6236c27144009",
            "c9097e9e2eb24faab2931710838132e0",
            "ed944cef6da64b77afbbb18d301c5b11",
            "6ca95c04b03a4561b34e2b51c5760153",
            "dd3565b98f234c4ba4de40572fdb0506",
            "c967a2533d1246faaef17565efd3a673",
            "e7b86647539644289a8ed571415e1d6a",
            "c92b9c21960b4faf9f5a9691c33b96e1",
            "9d9427936e874849b625bf741087bf81",
            "0cde2d9f1d414f45bfe6023f72c4f964",
            "91e559ec526c4a258bcfd156df04403a",
            "a7903d167b1a4b7b9e47192a609ab9fd",
            "6b072689962b433fa680bb277ab791e8",
            "57b2c9b8547245cca1bee542cf947b64",
            "62a0abd361c34979bf8c0c47a1737a01",
            "47d4e3ba130140938824cbde8bb45df9",
            "41c122a92544437fa35369cbe1729efd",
            "ce130ae68b204f6c97fd503727a5ba35",
            "bdc15afc5dbc427693f04269481e0d1a",
            "996485e0c7e547688b5c40b0549f9dff",
            "a1c51dc4bec64c2787890f14ac0203ab",
            "61377ad2a92b41ee8135d7039eb473ec"
          ]
        },
        "id": "m39B9Pcu0V7A",
        "outputId": "d7d0b606-e6d7-4608-950c-54ab9d33408f"
      },
      "outputs": [],
      "source": [
        "# let's start with deciding which years we want data for\n",
        "scan_level_desired_years = [\"1900\",]\n",
        "\n",
        "# now let's load our data, we have to specify the huggingface location of our\n",
        "# data, the fact that we want to have a subset of years, and our desired years\n",
        "dataset_scan_level=load_dataset(\"dell-research-harvard/AmericanStories\",\n",
        "                                \"subset_years_content_regions\",\n",
        "                                year_list=scan_level_desired_years\n",
        "                                )"
      ]
    },
    {
      "cell_type": "markdown",
      "metadata": {
        "id": "a6mpQd-CIzmQ"
      },
      "source": [
        "### 1d: scan level, for all years\n",
        "The next cell contains to get all scans for all years. It is commented because running it requires a lot of bandwidth and data. Please uncomment, and then run to get all data"
      ]
    },
    {
      "cell_type": "code",
      "execution_count": null,
      "metadata": {
        "id": "D3m1XvKXIzmQ"
      },
      "outputs": [],
      "source": [
        "# Uncomment the next line and execute this cell to download the entire dataset\n",
        "#dataset_scan_level_all_years = load_dataset(\"dell-research-harvard/AmericanStories\", \"all_years\")"
      ]
    },
    {
      "cell_type": "markdown",
      "metadata": {
        "id": "RtgijsI_JFeQ"
      },
      "source": [
        "# Part II: Exploring the data, with applications\n",
        "\n",
        "We will do three things in the next section:\n",
        "\n",
        "1. Discuss the structure of the returned dataset\n",
        "2. Discuss how to access the data\n",
        "3. Implement our applications"
      ]
    },
    {
      "cell_type": "markdown",
      "metadata": {
        "id": "f_tCqR68J51Y"
      },
      "source": [
        "### IIa: Article level"
      ]
    },
    {
      "cell_type": "code",
      "execution_count": null,
      "metadata": {
        "colab": {
          "base_uri": "https://localhost:8080/"
        },
        "id": "cvNb2plPJCPF",
        "outputId": "8d0824d1-3263-4023-bc06-1388d58db7db"
      },
      "outputs": [],
      "source": [
        "# let's inspect the structure\n",
        "print(dataset_article_level)"
      ]
    },
    {
      "cell_type": "code",
      "execution_count": null,
      "metadata": {
        "id": "umVyAxpUKnF-"
      },
      "outputs": [],
      "source": [
        "# We see that we have 1.1mln articles for 1900, and that we have several self-explanatory features for each article. Let's explore the data"
      ]
    },
    {
      "cell_type": "code",
      "execution_count": null,
      "metadata": {
        "colab": {
          "base_uri": "https://localhost:8080/"
        },
        "id": "OjfDo2Z12M9Y",
        "outputId": "edcece3f-9241-4de3-b383-4382ef4f5809"
      },
      "outputs": [],
      "source": [
        "# the structure of the output is a dictionary. The keys of the dictionary are the fields we have for each article\n",
        "dataset_article_level[\"1900\"].features"
      ]
    },
    {
      "cell_type": "code",
      "execution_count": null,
      "metadata": {
        "colab": {
          "base_uri": "https://localhost:8080/"
        },
        "id": "hAKRRyJTKyg-",
        "outputId": "02e12b12-f423-4caa-d08e-71745fe7cd8c"
      },
      "outputs": [],
      "source": [
        "# let's inspect a random article from 1900\n",
        "dataset_article_level[\"1900\"][5]"
      ]
    },
    {
      "cell_type": "code",
      "execution_count": null,
      "metadata": {
        "colab": {
          "base_uri": "https://localhost:8080/"
        },
        "id": "-vHoN1lw13mC",
        "outputId": "fae9c407-a3c7-47b7-c189-956753863763"
      },
      "outputs": [],
      "source": [
        "# we can see the headline, and that this appeared in the Evening star. Below we will learn more about the Evening star. For now, let's inspect the article\n",
        "print(dataset_article_level[\"1900\"][5][\"article\"])"
      ]
    },
    {
      "cell_type": "code",
      "execution_count": null,
      "metadata": {
        "colab": {
          "base_uri": "https://localhost:8080/"
        },
        "id": "SMK0IZHbzVKt",
        "outputId": "29c26cc5-873c-4fad-e2e5-89810cffbbe5"
      },
      "outputs": [],
      "source": [
        "# it is easy to loop through articles and see if it mentions 'spring style'\n",
        "# here we will loop through the first ten articles\n",
        "\n",
        "# let's initialize a dict for our articles. Let's collect the index of the\n",
        "# article that contains our desired string as well as the article_id in case\n",
        "# we want to find articles back later\n",
        "dict_of_articles_containing_spring_style = {}\n",
        "\n",
        "# we are interesting in spring style\n",
        "str_of_interest = \"spring style\"\n",
        "\n",
        "# let's loop!\n",
        "for article_n in range(10):\n",
        "\n",
        "  # let's grab the article data\n",
        "  article = dataset_article_level[\"1900\"][article_n]\n",
        "\n",
        "  # let's grab the article text\n",
        "  article_text = article[\"article\"]\n",
        "\n",
        "  # check if we see the text\n",
        "  if str_of_interest in article_text:\n",
        "    dict_of_articles_containing_spring_style[article_n] = article[\"article_id\"]\n",
        "  else:\n",
        "    pass\n",
        "\n",
        "# let's see which articles feature this text\n",
        "print(dict_of_articles_containing_spring_style)"
      ]
    },
    {
      "cell_type": "markdown",
      "metadata": {
        "id": "SnFLxE5DNbbE"
      },
      "source": [
        "## Application: Two strings within the *same article*\n",
        "\n",
        "Previous methods for querying historical newspapers often relied on keyword\n",
        "searches.\n",
        "\n",
        "This made it impossible to verify if the same *article* mentioned\n",
        "two terms.\n",
        "\n",
        "Our dataset allows this, let's work through a simple example"
      ]
    },
    {
      "cell_type": "code",
      "execution_count": null,
      "metadata": {
        "colab": {
          "base_uri": "https://localhost:8080/"
        },
        "id": "AZ4fGNwSOH9M",
        "outputId": "b9dc39e3-d0fc-4d5d-b9b1-795657c7e078"
      },
      "outputs": [],
      "source": [
        "# let's see if we can see if an article mentions both spring style\n",
        "# and infants shoes\n",
        "str_of_interest_1 = \"spring style\"\n",
        "str_of_interest_2 = \"infants shoes\"\n",
        "\n",
        "# we want to find articles back later\n",
        "dict_of_articles_containing_spring_style_infants_shoes = {}\n",
        "\n",
        "# proceed like before, restricting ourselves to the first 10 articles\n",
        "for article_n in range(10):\n",
        "\n",
        "  # let's grab the article data\n",
        "  article = dataset_article_level[\"1900\"][article_n]\n",
        "\n",
        "  # let's grab the article text. We need to worry about capitalization here\n",
        "  article_text = article[\"article\"].lower()\n",
        "\n",
        "  # we now test for both strings being present\n",
        "  if (\n",
        "      str_of_interest_1 in article_text\n",
        "      and\n",
        "      str_of_interest_2 in article_text\n",
        "  ):\n",
        "    dict_of_articles_containing_spring_style_infants_shoes[article_n] = (\n",
        "        article[\"article_id\"]\n",
        "    )\n",
        "  else:\n",
        "    pass\n",
        "\n",
        "# let's see which articles feature this text\n",
        "print(dict_of_articles_containing_spring_style_infants_shoes)"
      ]
    },
    {
      "cell_type": "code",
      "execution_count": null,
      "metadata": {
        "colab": {
          "base_uri": "https://localhost:8080/"
        },
        "id": "maV8wt8HRx7G",
        "outputId": "d3068fd3-92e2-40e5-cd92-0dc39dc2dab5"
      },
      "outputs": [],
      "source": [
        "\n",
        "dataset_article_level\n"
      ]
    },
    {
      "cell_type": "code",
      "execution_count": null,
      "metadata": {
        "colab": {
          "base_uri": "https://localhost:8080/"
        },
        "id": "YWhS51tRQ4Aq",
        "outputId": "93f85d92-7848-46b2-d726-b1e0afa86811"
      },
      "outputs": [],
      "source": [
        "# in our article we found that the Boer War was the biggest story. We can\n",
        "# see which articles mention both the Boer War, and Winston Churchill who\n",
        "# was there as a report. Let's try with all articles this time\n",
        "str_of_interest_1 = \"boer\"\n",
        "str_of_interest_2 = \"churchill\"\n",
        "\n",
        "# we want to find articles back later\n",
        "dict_of_articles_containing_boer_war_churchill = {}\n",
        "\n",
        "# proceed like before, looping through all articles. This should take 3 to 4 min\n",
        "for article_n in tq.tqdm(range(1118970)):\n",
        "\n",
        "  # let's grab the article data\n",
        "  article = dataset_article_level[\"1900\"][article_n]\n",
        "\n",
        "  # let's grab the article text. We need to worry about capitalization here\n",
        "  article_text = article[\"article\"].lower()\n",
        "\n",
        "  # we now test for both strings being present\n",
        "  if (\n",
        "      str_of_interest_1 in article_text\n",
        "      and\n",
        "      str_of_interest_2 in article_text\n",
        "  ):\n",
        "    dict_of_articles_containing_boer_war_churchill[article_n] = (\n",
        "        article[\"article_id\"]\n",
        "    )\n",
        "  else:\n",
        "    pass\n"
      ]
    },
    {
      "cell_type": "code",
      "execution_count": null,
      "metadata": {
        "colab": {
          "base_uri": "https://localhost:8080/"
        },
        "id": "2E0GcDIgS2vJ",
        "outputId": "7f591bb4-faa4-4453-dd95-871ea8b02941"
      },
      "outputs": [],
      "source": [
        "# let's see how many articles we got\n",
        "print(len(dict_of_articles_containing_boer_war_churchill))\n",
        "\n",
        "# let's print the results\n",
        "print(dict_of_articles_containing_boer_war_churchill)"
      ]
    },
    {
      "cell_type": "code",
      "execution_count": null,
      "metadata": {
        "colab": {
          "base_uri": "https://localhost:8080/"
        },
        "id": "Wm1IOa3CS7ad",
        "outputId": "9215531e-d1fb-484a-fbf7-31ae16e0a945"
      },
      "outputs": [],
      "source": [
        "# let's inspect the first one\n",
        "dataset_article_level[\"1900\"][5538]\n",
        "\n",
        "# this article is from the Age Herald from May 12th, and describes the progress of the war"
      ]
    },
    {
      "cell_type": "code",
      "execution_count": null,
      "metadata": {
        "colab": {
          "base_uri": "https://localhost:8080/"
        },
        "id": "7JrfDJe6TQvl",
        "outputId": "64013d2b-f5f0-4daf-8da7-914769f70fe6"
      },
      "outputs": [],
      "source": [
        "# let's print the article\n",
        "print(dataset_article_level[\"1900\"][5538][\"article\"])"
      ]
    },
    {
      "cell_type": "code",
      "execution_count": null,
      "metadata": {
        "id": "FdUdlFfiDbqw"
      },
      "outputs": [],
      "source": [
        "import pandas as pd\n",
        "# It is possible to visualze the frequency of appearance over time\n",
        "\n",
        "# let's initialize a list of our dates\n",
        "list_of_dates = []\n",
        "\n",
        "# let's loop over our article indices\n",
        "for article_n in dict_of_articles_containing_boer_war_churchill.keys():\n",
        "\n",
        "  # let's grab the date\n",
        "  date = dataset_article_level[\"1900\"][article_n]['date']\n",
        "\n",
        "  # let's add to our list\n",
        "  list_of_dates.append(date)\n",
        "\n"
      ]
    },
    {
      "cell_type": "code",
      "execution_count": null,
      "metadata": {
        "colab": {
          "base_uri": "https://localhost:8080/",
          "height": 857
        },
        "id": "Dr3vHdjnFSym",
        "outputId": "cd23a17c-d7f0-477d-ae64-1275d1491858"
      },
      "outputs": [],
      "source": [
        "#  now let's plot the frequency by date\n",
        "df = pd.DataFrame({'date': list_of_dates})\n",
        "df.groupby('date').size().plot(kind='bar', figsize=(15,9))"
      ]
    },
    {
      "cell_type": "markdown",
      "metadata": {
        "id": "2wzo4ioa7aet"
      },
      "source": [
        "### IIb: Scan level"
      ]
    },
    {
      "cell_type": "code",
      "execution_count": null,
      "metadata": {
        "colab": {
          "base_uri": "https://localhost:8080/"
        },
        "id": "CZThNVYp7Yjb",
        "outputId": "6c966bbc-e133-4c45-e7a0-f6425a451e5b"
      },
      "outputs": [],
      "source": [
        "# let's inspect the structure\n",
        "print(dataset_scan_level)"
      ]
    },
    {
      "cell_type": "code",
      "execution_count": null,
      "metadata": {
        "colab": {
          "base_uri": "https://localhost:8080/"
        },
        "id": "Li7QN1wo88Y2",
        "outputId": "cc4001f9-56be-4e33-c48d-72ed27040999"
      },
      "outputs": [],
      "source": [
        "# let's inspect the data for 1900. Note that this data is provided as a string.\n",
        "# We can easily convert to a JSON\n",
        "\n",
        "# get the string\n",
        "raw_data_string = dataset_scan_level[\"1900\"][0]['raw_data_string']\n",
        "\n",
        "# convert to a dict\n",
        "article_json = json.loads(raw_data_string)\n",
        "\n",
        "# inspect which features we have\n",
        "article_json.keys()"
      ]
    },
    {
      "cell_type": "markdown",
      "metadata": {
        "id": "0JDyYovhCZhT"
      },
      "source": [
        "Each scan contains several pieces of information:\n",
        "\n",
        "1. The page it appears on\n",
        "2. The URL linking to the original page scan\n",
        "3. Meta-information on the scan (scan and scan_ocr)\n",
        "4. A dictionary of the bounding boxes that we identified on the page\n",
        "5. The date of this edition\n",
        "6. A dictionary of full_articles appearing on this page. Here it is\n",
        "especially important to note that we include a list of the bounding\n",
        "boxes that together form the article\n",
        "\n"
      ]
    },
    {
      "cell_type": "code",
      "execution_count": null,
      "metadata": {
        "colab": {
          "base_uri": "https://localhost:8080/"
        },
        "id": "wle6sE7c-DhU",
        "outputId": "0d13b21e-2c24-477b-ae09-1b30f2e0a773"
      },
      "outputs": [],
      "source": [
        "# Each scan contains several pieces of information, here we are just accessing the\n",
        "# first article\n",
        "article_json['full articles'][0]"
      ]
    },
    {
      "cell_type": "code",
      "execution_count": null,
      "metadata": {
        "id": "oCb88C-WU6H7"
      },
      "outputs": [],
      "source": [
        "# note that this dictionary lists the bounding boxes the article is composed\n",
        "# of, the article text, and the article id. If we want, we can use this article\n",
        "# id to link articles we found above to their pages. Note that all article text\n",
        "# that you can explore using the article data, you can also explore using the\n",
        "# scan data"
      ]
    },
    {
      "cell_type": "markdown",
      "metadata": {
        "id": "JmUjROjEV71A"
      },
      "source": [
        "### Let's now go back to the evenstar\n",
        "\n",
        "We will try to find the page that the article we identified above appeared on"
      ]
    },
    {
      "cell_type": "code",
      "execution_count": null,
      "metadata": {
        "colab": {
          "base_uri": "https://localhost:8080/"
        },
        "id": "UF27d_TXWHvd",
        "outputId": "af4c1b81-c474-4f2c-9966-4cdc96308bcb"
      },
      "outputs": [],
      "source": [
        "# let's start with identifying the article id\n",
        "article_id_of_interest = dict_of_articles_containing_spring_style_infants_shoes[5]\n",
        "print(article_id_of_interest)"
      ]
    },
    {
      "cell_type": "code",
      "execution_count": null,
      "metadata": {
        "colab": {
          "base_uri": "https://localhost:8080/"
        },
        "id": "MvE2dF9L4fW6",
        "outputId": "e514c998-147a-44d7-d03c-5c6acb7fbe49"
      },
      "outputs": [],
      "source": [
        "# we will take our article and loop through articles on page to find the\n",
        "# relevant page\n",
        "\n",
        "# we want to find articles back later. Let's record the index of the page and\n",
        "# then the index of the article that we're looking for\n",
        "page_with_hit = {}\n",
        "\n",
        "# proceed like before, looping through all scans (we saw above how many there are).\n",
        "# This should take 3\n",
        "for scan_n in tq.tqdm(range(77496)):\n",
        "\n",
        "  # get the string\n",
        "  raw_data_string = dataset_scan_level[\"1900\"][scan_n]['raw_data_string']\n",
        "\n",
        "  # convert to a dict\n",
        "  article_json = json.loads(raw_data_string)\n",
        "\n",
        "  # now we have to loop through articles\n",
        "  for article_n in range(len(article_json[\"full articles\"])):\n",
        "\n",
        "    # let's grab the article\n",
        "    article_data = article_json['full articles'][article_n]\n",
        "\n",
        "    # note that the ids have '.json' attached here\n",
        "    article_id = article_data[\"id\"].split(\".\")[0]\n",
        "\n",
        "    # let's see if the id matches\n",
        "    if article_id == article_id_of_interest:\n",
        "      page_with_hit[scan_n] = article_n\n",
        "    else:\n",
        "      pass"
      ]
    },
    {
      "cell_type": "code",
      "execution_count": null,
      "metadata": {
        "colab": {
          "base_uri": "https://localhost:8080/"
        },
        "id": "Bd0TUshPXKcp",
        "outputId": "96a9ae46-863c-4ecd-edf2-a69c41609a00"
      },
      "outputs": [],
      "source": [
        "page_with_hit"
      ]
    },
    {
      "cell_type": "markdown",
      "metadata": {
        "id": "4ASbbHyOYIKJ"
      },
      "source": [
        "## Application: What other articles are printed with our article\n",
        "\n",
        "Now that we have identified the page we can ask what other articles were\n",
        "printed on the page that our article of interest appears on!"
      ]
    },
    {
      "cell_type": "code",
      "execution_count": null,
      "metadata": {
        "id": "zxaAQubrYWKK"
      },
      "outputs": [],
      "source": [
        "# let's get the page our articles appears on\n",
        "raw_data_string = dataset_scan_level[\"1900\"][1]['raw_data_string']\n",
        "\n",
        "# convert to a dict\n",
        "article_json = json.loads(raw_data_string)"
      ]
    },
    {
      "cell_type": "code",
      "execution_count": null,
      "metadata": {
        "colab": {
          "base_uri": "https://localhost:8080/"
        },
        "id": "8nf-mvAgYf9E",
        "outputId": "09bdd1dc-96ee-4f90-d510-5d6d0356f7d9"
      },
      "outputs": [],
      "source": [
        "# let's inspect that we have recovered our article\n",
        "article_json['full articles'][5]"
      ]
    },
    {
      "cell_type": "code",
      "execution_count": null,
      "metadata": {
        "colab": {
          "base_uri": "https://localhost:8080/"
        },
        "id": "cRoEyMGlYme5",
        "outputId": "c21f1070-f713-4a62-abb5-795575210776"
      },
      "outputs": [],
      "source": [
        "# now we can inspect what else appeared on that page that day!\n",
        "article_json['full articles']"
      ]
    },
    {
      "cell_type": "code",
      "execution_count": null,
      "metadata": {
        "colab": {
          "base_uri": "https://localhost:8080/"
        },
        "id": "4IJQC_EIZJjr",
        "outputId": "fa6c51ab-d51a-48d5-cee2-db72cafc92de"
      },
      "outputs": [],
      "source": [
        "# finally, we can inspect the image of the original page!\n",
        "article_json['scan']\n",
        "\n",
        "# The jp2 URL is the URL to the image, let's visualize it, this will take a bit of code"
      ]
    },
    {
      "cell_type": "code",
      "execution_count": null,
      "metadata": {
        "colab": {
          "base_uri": "https://localhost:8080/",
          "height": 836
        },
        "id": "N0Rms_HcaD5W",
        "outputId": "bea565f3-8525-4251-941f-1f144e6c3b21"
      },
      "outputs": [],
      "source": [
        "import requests\n",
        "import cv2\n",
        "import numpy as np\n",
        "from matplotlib import pyplot as plt\n",
        "\n",
        "def get_ca_scan_img(ca_url):\n",
        "  img_download_session = requests.Session()\n",
        "  response = img_download_session.get(ca_url)\n",
        "  if response.status_code != 200:\n",
        "    print(f'Error! {response.status_code}')\n",
        "    print(f'Please verify that {ca_url} is a valid chronicling america url!')\n",
        "    response.raise_for_status()\n",
        "\n",
        "  data = response.content\n",
        "  ca_img = cv2.imdecode(np.frombuffer(data, np.uint8), cv2.IMREAD_COLOR)\n",
        "  return ca_img\n",
        "\n",
        "# grab the url\n",
        "ca_url = article_json['scan']['jp2_url']\n",
        "\n",
        "#Get the image scan\n",
        "ca_img = get_ca_scan_img(ca_url)\n",
        "\n",
        "# Create a figure for the plot\n",
        "plt.ion()\n",
        "fig, ax = plt.subplots(1)\n",
        "fig.set_size_inches(10, 10)\n",
        "\n",
        "# Display image\n",
        "ax.imshow(ca_img)\n",
        "fig.suptitle('')\n",
        "\n",
        "plt.show()"
      ]
    },
    {
      "cell_type": "code",
      "execution_count": null,
      "metadata": {
        "id": "OKiyHDu9YqeG"
      },
      "outputs": [],
      "source": [
        "# with a bit more work, this routine can of course be expanded to the edition,\n",
        "# that is, all pages in that newspaper on the same day"
      ]
    },
    {
      "cell_type": "markdown",
      "metadata": {
        "id": "nvxPaXwXYzxV"
      },
      "source": [
        "# Application: Spelling checking\n",
        "\n",
        "There is natural variation in the quality of the scans, and of OCR. It is\n",
        "straightforward to apply a spelling checker to any article. Here we briefly\n",
        "demonstrate how\n"
      ]
    },
    {
      "cell_type": "code",
      "execution_count": null,
      "metadata": {
        "id": "oY8rrDUr2BDY"
      },
      "outputs": [],
      "source": [
        "# let's return to our article about shoes\n",
        "shoes_article = dataset_article_level[\"1900\"][5]['article']"
      ]
    },
    {
      "cell_type": "code",
      "execution_count": null,
      "metadata": {
        "colab": {
          "base_uri": "https://localhost:8080/"
        },
        "id": "IdcenrSGZ63T",
        "outputId": "50900859-ddf5-4095-b3a6-99b0ef607b51"
      },
      "outputs": [],
      "source": [
        "# let's have a look\n",
        "print(shoes_article)"
      ]
    },
    {
      "cell_type": "markdown",
      "metadata": {
        "id": "5wgrduk8Z-IC"
      },
      "source": [
        "The article text contains a few mistakes that we can correct. Looking at the text of the article, a few errors are apparent:\n",
        "1. Some spelling mistakes exist, for example \"peopie\" in the first/second line\n",
        "2. Some words are divided between multiple lines (\"peo- pie\", \"rep utable\", \"At tention\", etc).\n",
        "3. Capitalization errors are somewhat common: \"i'll\", \"...lines Of...\""
      ]
    },
    {
      "cell_type": "code",
      "execution_count": null,
      "metadata": {
        "colab": {
          "base_uri": "https://localhost:8080/"
        },
        "id": "EIPvMQOtaIHP",
        "outputId": "f6046a55-ee18-46e5-c8ee-d2c59eedf07a"
      },
      "outputs": [],
      "source": [
        "# we have to download a spellchecking package\n",
        "!pip install symspellpy\n"
      ]
    },
    {
      "cell_type": "code",
      "execution_count": null,
      "metadata": {
        "colab": {
          "base_uri": "https://localhost:8080/"
        },
        "id": "FiTP4yy1c9oj",
        "outputId": "439ef69d-5d22-4a1e-a9ac-4284e88bcd4f"
      },
      "outputs": [],
      "source": [
        "# let's initialize the package\n",
        "import pkg_resources\n",
        "from symspellpy import SymSpell, Verbosity\n",
        "import string\n",
        "\n",
        "sym_spell = SymSpell(max_dictionary_edit_distance=2, prefix_length=7)\n",
        "en_dict = pkg_resources.resource_filename('symspellpy', 'frequency_dictionary_en_82_765.txt')\n",
        "sym_spell.load_dictionary(en_dict, term_index=0, count_index=1)"
      ]
    },
    {
      "cell_type": "code",
      "execution_count": null,
      "metadata": {
        "id": "tzFljHkyc-fb"
      },
      "outputs": [],
      "source": [
        "# we now create a few functions that take care of the issues flagged above\n",
        "\n",
        "# thsese two functions implement spelling corrections\n",
        "def check_word(word):\n",
        "  no_punc_word = word.strip(string.punctuation)\n",
        "  if len(no_punc_word) > 0:\n",
        "    suggestions = sym_spell.lookup(no_punc_word, Verbosity.CLOSEST, max_edit_distance=1, include_unknown=True, transfer_casing=True)\n",
        "  else:\n",
        "    return word\n",
        "  return word.replace(no_punc_word, suggestions[0].term)\n",
        "\n",
        "def spell_check(text):\n",
        "  lines = text.split('\\n')\n",
        "  checked_lines = []\n",
        "  for line in lines:\n",
        "    words = line.split(' ')\n",
        "    checked_line = ' '.join([check_word(word) for word in words])\n",
        "    checked_lines.append(checked_line)\n",
        "  return '\\n'.join(checked_lines)\n",
        "\n",
        "# this function checks capitalization\n",
        "def capitalization_check(text):\n",
        "  lines = text.split('\\n')\n",
        "  checked_lines = []\n",
        "  for line in lines:\n",
        "    words = line.split(' ')\n",
        "    for i in range(1, len(words)):\n",
        "      if words[i-1][-1] in ['.', '!', '?']:\n",
        "        words[i] = words[i].capitalize()\n",
        "      else:\n",
        "        no_punc_word = words[i].strip(string.punctuation)\n",
        "        if no_punc_word in sym_spell.words and no_punc_word not in ['i', \"i'll\"]: # Check that the word is not a propper noun\n",
        "          words[i] = words[i].replace(no_punc_word, no_punc_word.lower())\n",
        "\n",
        "    checked_lines.append(' '.join(words))\n",
        "  return '\\n'.join(checked_lines)\n",
        "\n",
        "# this functions corrects line breaks\n",
        "def line_merge(text):\n",
        "  lines = [l.split() for l in text.split('\\n')]\n",
        "  for i in range(len(lines) - 1):\n",
        "    if len(lines[i]) == 0 or len(lines[i+1]) == 0:\n",
        "      continue\n",
        "    elif lines[i][-1][-1] == '-': # Automatically merge if a line ends with a hyphen\n",
        "      lines[i][-1] = lines[i][-1][:-1] + lines[i+1][0]\n",
        "      lines[i+1] = lines[i+1][1:]\n",
        "    elif lines[i][-1].strip(string.punctuation).lower() not in sym_spell.words or lines[i+1][0].strip(string.punctuation).lower() not in sym_spell.words:\n",
        "      if (lines[i][-1].strip(string.punctuation).lower() + lines[i+1][0].strip(string.punctuation).lower()) in sym_spell.words:\n",
        "        lines[i][-1] += lines[i+1][0]\n",
        "        lines[i+1] = lines[i+1][1:]\n",
        "\n",
        "  return '\\n'.join([' '.join(l) for l in lines])\n"
      ]
    },
    {
      "cell_type": "code",
      "execution_count": null,
      "metadata": {
        "id": "2nbl3M3AdSW9"
      },
      "outputs": [],
      "source": [
        "# this functions implements all three methods\n",
        "def postprocess(text):\n",
        "  merged = line_merge(text)\n",
        "  checked = spell_check(merged)\n",
        "  capitalization_normalized = capitalization_check(checked)\n",
        "  return capitalization_normalized"
      ]
    },
    {
      "cell_type": "code",
      "execution_count": null,
      "metadata": {
        "colab": {
          "base_uri": "https://localhost:8080/"
        },
        "id": "sYwrMqtjdTmu",
        "outputId": "09f248c5-6260-48d0-8df3-50f82631ccd7"
      },
      "outputs": [],
      "source": [
        "# now we can simple pass our text to the spelling correction routine!\n",
        "print(postprocess(shoes_article))"
      ]
    },
    {
      "cell_type": "markdown",
      "metadata": {
        "id": "oyZ4vQHPnSVo"
      },
      "source": [
        "Postprocessing can significantly help text, but can also create errors. If the dictionary does not include a correctly transcribed proper noun or anachronism, it can \"correct\" it to an erroneous word."
      ]
    }
  ],
  "metadata": {
    "colab": {
      "provenance": []
    },
    "kernelspec": {
      "display_name": "Python 3",
      "name": "python3"
    },
    "language_info": {
      "name": "python"
    },
    "widgets": {
      "application/vnd.jupyter.widget-state+json": {
        "093a569370094db6afccf1449f28bde6": {
          "model_module": "@jupyter-widgets/controls",
          "model_module_version": "1.5.0",
          "model_name": "DescriptionStyleModel",
          "state": {
            "_model_module": "@jupyter-widgets/controls",
            "_model_module_version": "1.5.0",
            "_model_name": "DescriptionStyleModel",
            "_view_count": null,
            "_view_module": "@jupyter-widgets/base",
            "_view_module_version": "1.2.0",
            "_view_name": "StyleView",
            "description_width": ""
          }
        },
        "0cde2d9f1d414f45bfe6023f72c4f964": {
          "model_module": "@jupyter-widgets/base",
          "model_module_version": "1.2.0",
          "model_name": "LayoutModel",
          "state": {
            "_model_module": "@jupyter-widgets/base",
            "_model_module_version": "1.2.0",
            "_model_name": "LayoutModel",
            "_view_count": null,
            "_view_module": "@jupyter-widgets/base",
            "_view_module_version": "1.2.0",
            "_view_name": "LayoutView",
            "align_content": null,
            "align_items": null,
            "align_self": null,
            "border": null,
            "bottom": null,
            "display": null,
            "flex": null,
            "flex_flow": null,
            "grid_area": null,
            "grid_auto_columns": null,
            "grid_auto_flow": null,
            "grid_auto_rows": null,
            "grid_column": null,
            "grid_gap": null,
            "grid_row": null,
            "grid_template_areas": null,
            "grid_template_columns": null,
            "grid_template_rows": null,
            "height": null,
            "justify_content": null,
            "justify_items": null,
            "left": null,
            "margin": null,
            "max_height": null,
            "max_width": null,
            "min_height": null,
            "min_width": null,
            "object_fit": null,
            "object_position": null,
            "order": null,
            "overflow": null,
            "overflow_x": null,
            "overflow_y": null,
            "padding": null,
            "right": null,
            "top": null,
            "visibility": null,
            "width": null
          }
        },
        "174ffcf1ef044f82a93c4a32d71011d3": {
          "model_module": "@jupyter-widgets/base",
          "model_module_version": "1.2.0",
          "model_name": "LayoutModel",
          "state": {
            "_model_module": "@jupyter-widgets/base",
            "_model_module_version": "1.2.0",
            "_model_name": "LayoutModel",
            "_view_count": null,
            "_view_module": "@jupyter-widgets/base",
            "_view_module_version": "1.2.0",
            "_view_name": "LayoutView",
            "align_content": null,
            "align_items": null,
            "align_self": null,
            "border": null,
            "bottom": null,
            "display": null,
            "flex": null,
            "flex_flow": null,
            "grid_area": null,
            "grid_auto_columns": null,
            "grid_auto_flow": null,
            "grid_auto_rows": null,
            "grid_column": null,
            "grid_gap": null,
            "grid_row": null,
            "grid_template_areas": null,
            "grid_template_columns": null,
            "grid_template_rows": null,
            "height": null,
            "justify_content": null,
            "justify_items": null,
            "left": null,
            "margin": null,
            "max_height": null,
            "max_width": null,
            "min_height": null,
            "min_width": null,
            "object_fit": null,
            "object_position": null,
            "order": null,
            "overflow": null,
            "overflow_x": null,
            "overflow_y": null,
            "padding": null,
            "right": null,
            "top": null,
            "visibility": null,
            "width": null
          }
        },
        "17e4959b6b05417688d89e186aac3ce6": {
          "model_module": "@jupyter-widgets/controls",
          "model_module_version": "1.5.0",
          "model_name": "HTMLModel",
          "state": {
            "_dom_classes": [],
            "_model_module": "@jupyter-widgets/controls",
            "_model_module_version": "1.5.0",
            "_model_name": "HTMLModel",
            "_view_count": null,
            "_view_module": "@jupyter-widgets/controls",
            "_view_module_version": "1.5.0",
            "_view_name": "HTMLView",
            "description": "",
            "description_tooltip": null,
            "layout": "IPY_MODEL_ab077446eea0457abf6e23ea22076beb",
            "placeholder": "​",
            "style": "IPY_MODEL_b9e17e7742184f09b9a7c9bed6138456",
            "value": "Downloading data: 100%"
          }
        },
        "2101feaba90c4570be9699d688b8aaea": {
          "model_module": "@jupyter-widgets/controls",
          "model_module_version": "1.5.0",
          "model_name": "HTMLModel",
          "state": {
            "_dom_classes": [],
            "_model_module": "@jupyter-widgets/controls",
            "_model_module_version": "1.5.0",
            "_model_name": "HTMLModel",
            "_view_count": null,
            "_view_module": "@jupyter-widgets/controls",
            "_view_module_version": "1.5.0",
            "_view_name": "HTMLView",
            "description": "",
            "description_tooltip": null,
            "layout": "IPY_MODEL_77f603d03c28440f849969976468dbf4",
            "placeholder": "​",
            "style": "IPY_MODEL_c9418c6aabf947c8a253f685f66b7b7f",
            "value": "Generating 1900 split: "
          }
        },
        "215697ad8a34435695282f9e90f39fb5": {
          "model_module": "@jupyter-widgets/controls",
          "model_module_version": "1.5.0",
          "model_name": "HTMLModel",
          "state": {
            "_dom_classes": [],
            "_model_module": "@jupyter-widgets/controls",
            "_model_module_version": "1.5.0",
            "_model_name": "HTMLModel",
            "_view_count": null,
            "_view_module": "@jupyter-widgets/controls",
            "_view_module_version": "1.5.0",
            "_view_name": "HTMLView",
            "description": "",
            "description_tooltip": null,
            "layout": "IPY_MODEL_b4dd0cd1149949b09003b4bc8648ae38",
            "placeholder": "​",
            "style": "IPY_MODEL_6f4434e4a86c46a598661d9d949f39f4",
            "value": " 1/1 [00:39&lt;00:00, 39.32s/it]"
          }
        },
        "225f61ca7bbe4f19811ac8583dbfb9e0": {
          "model_module": "@jupyter-widgets/base",
          "model_module_version": "1.2.0",
          "model_name": "LayoutModel",
          "state": {
            "_model_module": "@jupyter-widgets/base",
            "_model_module_version": "1.2.0",
            "_model_name": "LayoutModel",
            "_view_count": null,
            "_view_module": "@jupyter-widgets/base",
            "_view_module_version": "1.2.0",
            "_view_name": "LayoutView",
            "align_content": null,
            "align_items": null,
            "align_self": null,
            "border": null,
            "bottom": null,
            "display": null,
            "flex": null,
            "flex_flow": null,
            "grid_area": null,
            "grid_auto_columns": null,
            "grid_auto_flow": null,
            "grid_auto_rows": null,
            "grid_column": null,
            "grid_gap": null,
            "grid_row": null,
            "grid_template_areas": null,
            "grid_template_columns": null,
            "grid_template_rows": null,
            "height": null,
            "justify_content": null,
            "justify_items": null,
            "left": null,
            "margin": null,
            "max_height": null,
            "max_width": null,
            "min_height": null,
            "min_width": null,
            "object_fit": null,
            "object_position": null,
            "order": null,
            "overflow": null,
            "overflow_x": null,
            "overflow_y": null,
            "padding": null,
            "right": null,
            "top": null,
            "visibility": null,
            "width": null
          }
        },
        "287ce4c4f2844b53b7100f385c15ce9a": {
          "model_module": "@jupyter-widgets/controls",
          "model_module_version": "1.5.0",
          "model_name": "HTMLModel",
          "state": {
            "_dom_classes": [],
            "_model_module": "@jupyter-widgets/controls",
            "_model_module_version": "1.5.0",
            "_model_name": "HTMLModel",
            "_view_count": null,
            "_view_module": "@jupyter-widgets/controls",
            "_view_module_version": "1.5.0",
            "_view_name": "HTMLView",
            "description": "",
            "description_tooltip": null,
            "layout": "IPY_MODEL_eff1602988c34aa2a5534fb769f29f53",
            "placeholder": "​",
            "style": "IPY_MODEL_de92e179bddf41238954fadddeb84a23",
            "value": " 1.68G/1.68G [00:38&lt;00:00, 66.9MB/s]"
          }
        },
        "2a4a6842252f4f3a8c25d2b062a6a9f5": {
          "model_module": "@jupyter-widgets/controls",
          "model_module_version": "1.5.0",
          "model_name": "DescriptionStyleModel",
          "state": {
            "_model_module": "@jupyter-widgets/controls",
            "_model_module_version": "1.5.0",
            "_model_name": "DescriptionStyleModel",
            "_view_count": null,
            "_view_module": "@jupyter-widgets/base",
            "_view_module_version": "1.2.0",
            "_view_name": "StyleView",
            "description_width": ""
          }
        },
        "2e0928f289884e15a89622d4fcc1d192": {
          "model_module": "@jupyter-widgets/controls",
          "model_module_version": "1.5.0",
          "model_name": "HBoxModel",
          "state": {
            "_dom_classes": [],
            "_model_module": "@jupyter-widgets/controls",
            "_model_module_version": "1.5.0",
            "_model_name": "HBoxModel",
            "_view_count": null,
            "_view_module": "@jupyter-widgets/controls",
            "_view_module_version": "1.5.0",
            "_view_name": "HBoxView",
            "box_style": "",
            "children": [
              "IPY_MODEL_f093012bfaa544d3b962ec558d8c9aea",
              "IPY_MODEL_83d9f76428314a76999ba28caca7f344",
              "IPY_MODEL_76ebb547365640c6a96b6fafa5b7fa48"
            ],
            "layout": "IPY_MODEL_225f61ca7bbe4f19811ac8583dbfb9e0"
          }
        },
        "357d0f8d761941bba67eddf5599afd88": {
          "model_module": "@jupyter-widgets/controls",
          "model_module_version": "1.5.0",
          "model_name": "HTMLModel",
          "state": {
            "_dom_classes": [],
            "_model_module": "@jupyter-widgets/controls",
            "_model_module_version": "1.5.0",
            "_model_name": "HTMLModel",
            "_view_count": null,
            "_view_module": "@jupyter-widgets/controls",
            "_view_module_version": "1.5.0",
            "_view_name": "HTMLView",
            "description": "",
            "description_tooltip": null,
            "layout": "IPY_MODEL_fd7f89286aae452eb9973619d0c89ab2",
            "placeholder": "​",
            "style": "IPY_MODEL_093a569370094db6afccf1449f28bde6",
            "value": " 8.91k/8.91k [00:00&lt;00:00, 508kB/s]"
          }
        },
        "387b94ad81d146009d41ef307265f9b1": {
          "model_module": "@jupyter-widgets/controls",
          "model_module_version": "1.5.0",
          "model_name": "HTMLModel",
          "state": {
            "_dom_classes": [],
            "_model_module": "@jupyter-widgets/controls",
            "_model_module_version": "1.5.0",
            "_model_name": "HTMLModel",
            "_view_count": null,
            "_view_module": "@jupyter-widgets/controls",
            "_view_module_version": "1.5.0",
            "_view_name": "HTMLView",
            "description": "",
            "description_tooltip": null,
            "layout": "IPY_MODEL_858e0ec2ad074c308c921794059e31fd",
            "placeholder": "​",
            "style": "IPY_MODEL_a6812dcf448647f48681006dbdf35134",
            "value": "Downloading data files: 100%"
          }
        },
        "3a2614c8e44648ceafb6236c27144009": {
          "model_module": "@jupyter-widgets/controls",
          "model_module_version": "1.5.0",
          "model_name": "HBoxModel",
          "state": {
            "_dom_classes": [],
            "_model_module": "@jupyter-widgets/controls",
            "_model_module_version": "1.5.0",
            "_model_name": "HBoxModel",
            "_view_count": null,
            "_view_module": "@jupyter-widgets/controls",
            "_view_module_version": "1.5.0",
            "_view_name": "HBoxView",
            "box_style": "",
            "children": [
              "IPY_MODEL_c9097e9e2eb24faab2931710838132e0",
              "IPY_MODEL_ed944cef6da64b77afbbb18d301c5b11",
              "IPY_MODEL_6ca95c04b03a4561b34e2b51c5760153"
            ],
            "layout": "IPY_MODEL_dd3565b98f234c4ba4de40572fdb0506"
          }
        },
        "3b9fa6a4564f4adbab165cd431142825": {
          "model_module": "@jupyter-widgets/base",
          "model_module_version": "1.2.0",
          "model_name": "LayoutModel",
          "state": {
            "_model_module": "@jupyter-widgets/base",
            "_model_module_version": "1.2.0",
            "_model_name": "LayoutModel",
            "_view_count": null,
            "_view_module": "@jupyter-widgets/base",
            "_view_module_version": "1.2.0",
            "_view_name": "LayoutView",
            "align_content": null,
            "align_items": null,
            "align_self": null,
            "border": null,
            "bottom": null,
            "display": null,
            "flex": null,
            "flex_flow": null,
            "grid_area": null,
            "grid_auto_columns": null,
            "grid_auto_flow": null,
            "grid_auto_rows": null,
            "grid_column": null,
            "grid_gap": null,
            "grid_row": null,
            "grid_template_areas": null,
            "grid_template_columns": null,
            "grid_template_rows": null,
            "height": null,
            "justify_content": null,
            "justify_items": null,
            "left": null,
            "margin": null,
            "max_height": null,
            "max_width": null,
            "min_height": null,
            "min_width": null,
            "object_fit": null,
            "object_position": null,
            "order": null,
            "overflow": null,
            "overflow_x": null,
            "overflow_y": null,
            "padding": null,
            "right": null,
            "top": null,
            "visibility": null,
            "width": null
          }
        },
        "41c122a92544437fa35369cbe1729efd": {
          "model_module": "@jupyter-widgets/base",
          "model_module_version": "1.2.0",
          "model_name": "LayoutModel",
          "state": {
            "_model_module": "@jupyter-widgets/base",
            "_model_module_version": "1.2.0",
            "_model_name": "LayoutModel",
            "_view_count": null,
            "_view_module": "@jupyter-widgets/base",
            "_view_module_version": "1.2.0",
            "_view_name": "LayoutView",
            "align_content": null,
            "align_items": null,
            "align_self": null,
            "border": null,
            "bottom": null,
            "display": null,
            "flex": null,
            "flex_flow": null,
            "grid_area": null,
            "grid_auto_columns": null,
            "grid_auto_flow": null,
            "grid_auto_rows": null,
            "grid_column": null,
            "grid_gap": null,
            "grid_row": null,
            "grid_template_areas": null,
            "grid_template_columns": null,
            "grid_template_rows": null,
            "height": null,
            "justify_content": null,
            "justify_items": null,
            "left": null,
            "margin": null,
            "max_height": null,
            "max_width": null,
            "min_height": null,
            "min_width": null,
            "object_fit": null,
            "object_position": null,
            "order": null,
            "overflow": null,
            "overflow_x": null,
            "overflow_y": null,
            "padding": null,
            "right": null,
            "top": null,
            "visibility": null,
            "width": null
          }
        },
        "47d4e3ba130140938824cbde8bb45df9": {
          "model_module": "@jupyter-widgets/base",
          "model_module_version": "1.2.0",
          "model_name": "LayoutModel",
          "state": {
            "_model_module": "@jupyter-widgets/base",
            "_model_module_version": "1.2.0",
            "_model_name": "LayoutModel",
            "_view_count": null,
            "_view_module": "@jupyter-widgets/base",
            "_view_module_version": "1.2.0",
            "_view_name": "LayoutView",
            "align_content": null,
            "align_items": null,
            "align_self": null,
            "border": null,
            "bottom": null,
            "display": null,
            "flex": null,
            "flex_flow": null,
            "grid_area": null,
            "grid_auto_columns": null,
            "grid_auto_flow": null,
            "grid_auto_rows": null,
            "grid_column": null,
            "grid_gap": null,
            "grid_row": null,
            "grid_template_areas": null,
            "grid_template_columns": null,
            "grid_template_rows": null,
            "height": null,
            "justify_content": null,
            "justify_items": null,
            "left": null,
            "margin": null,
            "max_height": null,
            "max_width": null,
            "min_height": null,
            "min_width": null,
            "object_fit": null,
            "object_position": null,
            "order": null,
            "overflow": null,
            "overflow_x": null,
            "overflow_y": null,
            "padding": null,
            "right": null,
            "top": null,
            "visibility": null,
            "width": null
          }
        },
        "4a7f8cfecd9a40799371eb0095bddc6f": {
          "model_module": "@jupyter-widgets/base",
          "model_module_version": "1.2.0",
          "model_name": "LayoutModel",
          "state": {
            "_model_module": "@jupyter-widgets/base",
            "_model_module_version": "1.2.0",
            "_model_name": "LayoutModel",
            "_view_count": null,
            "_view_module": "@jupyter-widgets/base",
            "_view_module_version": "1.2.0",
            "_view_name": "LayoutView",
            "align_content": null,
            "align_items": null,
            "align_self": null,
            "border": null,
            "bottom": null,
            "display": null,
            "flex": null,
            "flex_flow": null,
            "grid_area": null,
            "grid_auto_columns": null,
            "grid_auto_flow": null,
            "grid_auto_rows": null,
            "grid_column": null,
            "grid_gap": null,
            "grid_row": null,
            "grid_template_areas": null,
            "grid_template_columns": null,
            "grid_template_rows": null,
            "height": null,
            "justify_content": null,
            "justify_items": null,
            "left": null,
            "margin": null,
            "max_height": null,
            "max_width": null,
            "min_height": null,
            "min_width": null,
            "object_fit": null,
            "object_position": null,
            "order": null,
            "overflow": null,
            "overflow_x": null,
            "overflow_y": null,
            "padding": null,
            "right": null,
            "top": null,
            "visibility": null,
            "width": null
          }
        },
        "4c98ec78511747d8b3cb310632515500": {
          "model_module": "@jupyter-widgets/controls",
          "model_module_version": "1.5.0",
          "model_name": "HTMLModel",
          "state": {
            "_dom_classes": [],
            "_model_module": "@jupyter-widgets/controls",
            "_model_module_version": "1.5.0",
            "_model_name": "HTMLModel",
            "_view_count": null,
            "_view_module": "@jupyter-widgets/controls",
            "_view_module_version": "1.5.0",
            "_view_name": "HTMLView",
            "description": "",
            "description_tooltip": null,
            "layout": "IPY_MODEL_5b265c0c66a44a99a1a7bf06a83a6285",
            "placeholder": "​",
            "style": "IPY_MODEL_2a4a6842252f4f3a8c25d2b062a6a9f5",
            "value": " 1118970/0 [03:16&lt;00:00, 6128.81 examples/s]"
          }
        },
        "4d8d17e5472242f98d60cb7f8996cb1d": {
          "model_module": "@jupyter-widgets/controls",
          "model_module_version": "1.5.0",
          "model_name": "DescriptionStyleModel",
          "state": {
            "_model_module": "@jupyter-widgets/controls",
            "_model_module_version": "1.5.0",
            "_model_name": "DescriptionStyleModel",
            "_view_count": null,
            "_view_module": "@jupyter-widgets/base",
            "_view_module_version": "1.2.0",
            "_view_name": "StyleView",
            "description_width": ""
          }
        },
        "561d9c14e6474c7c85ee22fc18cdb251": {
          "model_module": "@jupyter-widgets/controls",
          "model_module_version": "1.5.0",
          "model_name": "ProgressStyleModel",
          "state": {
            "_model_module": "@jupyter-widgets/controls",
            "_model_module_version": "1.5.0",
            "_model_name": "ProgressStyleModel",
            "_view_count": null,
            "_view_module": "@jupyter-widgets/base",
            "_view_module_version": "1.2.0",
            "_view_name": "StyleView",
            "bar_color": null,
            "description_width": ""
          }
        },
        "57b2c9b8547245cca1bee542cf947b64": {
          "model_module": "@jupyter-widgets/controls",
          "model_module_version": "1.5.0",
          "model_name": "FloatProgressModel",
          "state": {
            "_dom_classes": [],
            "_model_module": "@jupyter-widgets/controls",
            "_model_module_version": "1.5.0",
            "_model_name": "FloatProgressModel",
            "_view_count": null,
            "_view_module": "@jupyter-widgets/controls",
            "_view_module_version": "1.5.0",
            "_view_name": "ProgressView",
            "bar_style": "success",
            "description": "",
            "description_tooltip": null,
            "layout": "IPY_MODEL_bdc15afc5dbc427693f04269481e0d1a",
            "max": 1,
            "min": 0,
            "orientation": "horizontal",
            "style": "IPY_MODEL_996485e0c7e547688b5c40b0549f9dff",
            "value": 1
          }
        },
        "5b265c0c66a44a99a1a7bf06a83a6285": {
          "model_module": "@jupyter-widgets/base",
          "model_module_version": "1.2.0",
          "model_name": "LayoutModel",
          "state": {
            "_model_module": "@jupyter-widgets/base",
            "_model_module_version": "1.2.0",
            "_model_name": "LayoutModel",
            "_view_count": null,
            "_view_module": "@jupyter-widgets/base",
            "_view_module_version": "1.2.0",
            "_view_name": "LayoutView",
            "align_content": null,
            "align_items": null,
            "align_self": null,
            "border": null,
            "bottom": null,
            "display": null,
            "flex": null,
            "flex_flow": null,
            "grid_area": null,
            "grid_auto_columns": null,
            "grid_auto_flow": null,
            "grid_auto_rows": null,
            "grid_column": null,
            "grid_gap": null,
            "grid_row": null,
            "grid_template_areas": null,
            "grid_template_columns": null,
            "grid_template_rows": null,
            "height": null,
            "justify_content": null,
            "justify_items": null,
            "left": null,
            "margin": null,
            "max_height": null,
            "max_width": null,
            "min_height": null,
            "min_width": null,
            "object_fit": null,
            "object_position": null,
            "order": null,
            "overflow": null,
            "overflow_x": null,
            "overflow_y": null,
            "padding": null,
            "right": null,
            "top": null,
            "visibility": null,
            "width": null
          }
        },
        "5da197a6d4314caf97caabd54e7f9cc9": {
          "model_module": "@jupyter-widgets/controls",
          "model_module_version": "1.5.0",
          "model_name": "DescriptionStyleModel",
          "state": {
            "_model_module": "@jupyter-widgets/controls",
            "_model_module_version": "1.5.0",
            "_model_name": "DescriptionStyleModel",
            "_view_count": null,
            "_view_module": "@jupyter-widgets/base",
            "_view_module_version": "1.2.0",
            "_view_name": "StyleView",
            "description_width": ""
          }
        },
        "604d2dfa377f465da81e5cf772b909ce": {
          "model_module": "@jupyter-widgets/controls",
          "model_module_version": "1.5.0",
          "model_name": "HBoxModel",
          "state": {
            "_dom_classes": [],
            "_model_module": "@jupyter-widgets/controls",
            "_model_module_version": "1.5.0",
            "_model_name": "HBoxModel",
            "_view_count": null,
            "_view_module": "@jupyter-widgets/controls",
            "_view_module_version": "1.5.0",
            "_view_name": "HBoxView",
            "box_style": "",
            "children": [
              "IPY_MODEL_387b94ad81d146009d41ef307265f9b1",
              "IPY_MODEL_dae6802ccea049b796dc1ee6fd801a43",
              "IPY_MODEL_215697ad8a34435695282f9e90f39fb5"
            ],
            "layout": "IPY_MODEL_d6fe3a39154c4a3c95a21ff6002c7122"
          }
        },
        "61377ad2a92b41ee8135d7039eb473ec": {
          "model_module": "@jupyter-widgets/controls",
          "model_module_version": "1.5.0",
          "model_name": "DescriptionStyleModel",
          "state": {
            "_model_module": "@jupyter-widgets/controls",
            "_model_module_version": "1.5.0",
            "_model_name": "DescriptionStyleModel",
            "_view_count": null,
            "_view_module": "@jupyter-widgets/base",
            "_view_module_version": "1.2.0",
            "_view_name": "StyleView",
            "description_width": ""
          }
        },
        "62a0abd361c34979bf8c0c47a1737a01": {
          "model_module": "@jupyter-widgets/controls",
          "model_module_version": "1.5.0",
          "model_name": "HTMLModel",
          "state": {
            "_dom_classes": [],
            "_model_module": "@jupyter-widgets/controls",
            "_model_module_version": "1.5.0",
            "_model_name": "HTMLModel",
            "_view_count": null,
            "_view_module": "@jupyter-widgets/controls",
            "_view_module_version": "1.5.0",
            "_view_name": "HTMLView",
            "description": "",
            "description_tooltip": null,
            "layout": "IPY_MODEL_a1c51dc4bec64c2787890f14ac0203ab",
            "placeholder": "​",
            "style": "IPY_MODEL_61377ad2a92b41ee8135d7039eb473ec",
            "value": " 77496/0 [03:01&lt;00:00, 531.70 examples/s]"
          }
        },
        "6b072689962b433fa680bb277ab791e8": {
          "model_module": "@jupyter-widgets/controls",
          "model_module_version": "1.5.0",
          "model_name": "HTMLModel",
          "state": {
            "_dom_classes": [],
            "_model_module": "@jupyter-widgets/controls",
            "_model_module_version": "1.5.0",
            "_model_name": "HTMLModel",
            "_view_count": null,
            "_view_module": "@jupyter-widgets/controls",
            "_view_module_version": "1.5.0",
            "_view_name": "HTMLView",
            "description": "",
            "description_tooltip": null,
            "layout": "IPY_MODEL_41c122a92544437fa35369cbe1729efd",
            "placeholder": "​",
            "style": "IPY_MODEL_ce130ae68b204f6c97fd503727a5ba35",
            "value": "Generating 1900 split: "
          }
        },
        "6ca95c04b03a4561b34e2b51c5760153": {
          "model_module": "@jupyter-widgets/controls",
          "model_module_version": "1.5.0",
          "model_name": "HTMLModel",
          "state": {
            "_dom_classes": [],
            "_model_module": "@jupyter-widgets/controls",
            "_model_module_version": "1.5.0",
            "_model_name": "HTMLModel",
            "_view_count": null,
            "_view_module": "@jupyter-widgets/controls",
            "_view_module_version": "1.5.0",
            "_view_name": "HTMLView",
            "description": "",
            "description_tooltip": null,
            "layout": "IPY_MODEL_0cde2d9f1d414f45bfe6023f72c4f964",
            "placeholder": "​",
            "style": "IPY_MODEL_91e559ec526c4a258bcfd156df04403a",
            "value": " 1/1 [00:00&lt;00:00, 54.51it/s]"
          }
        },
        "6f35914d6e7440b5ae0aa2b2b78f8b1b": {
          "model_module": "@jupyter-widgets/controls",
          "model_module_version": "1.5.0",
          "model_name": "HTMLModel",
          "state": {
            "_dom_classes": [],
            "_model_module": "@jupyter-widgets/controls",
            "_model_module_version": "1.5.0",
            "_model_name": "HTMLModel",
            "_view_count": null,
            "_view_module": "@jupyter-widgets/controls",
            "_view_module_version": "1.5.0",
            "_view_name": "HTMLView",
            "description": "",
            "description_tooltip": null,
            "layout": "IPY_MODEL_8ebcb68fb39f4e46b4db63504a36ce90",
            "placeholder": "​",
            "style": "IPY_MODEL_4d8d17e5472242f98d60cb7f8996cb1d",
            "value": "Downloading builder script: 100%"
          }
        },
        "6f4434e4a86c46a598661d9d949f39f4": {
          "model_module": "@jupyter-widgets/controls",
          "model_module_version": "1.5.0",
          "model_name": "DescriptionStyleModel",
          "state": {
            "_model_module": "@jupyter-widgets/controls",
            "_model_module_version": "1.5.0",
            "_model_name": "DescriptionStyleModel",
            "_view_count": null,
            "_view_module": "@jupyter-widgets/base",
            "_view_module_version": "1.2.0",
            "_view_name": "StyleView",
            "description_width": ""
          }
        },
        "76ebb547365640c6a96b6fafa5b7fa48": {
          "model_module": "@jupyter-widgets/controls",
          "model_module_version": "1.5.0",
          "model_name": "HTMLModel",
          "state": {
            "_dom_classes": [],
            "_model_module": "@jupyter-widgets/controls",
            "_model_module_version": "1.5.0",
            "_model_name": "HTMLModel",
            "_view_count": null,
            "_view_module": "@jupyter-widgets/controls",
            "_view_module_version": "1.5.0",
            "_view_name": "HTMLView",
            "description": "",
            "description_tooltip": null,
            "layout": "IPY_MODEL_7b38b7ebc30b49589d2108790b7c4f0d",
            "placeholder": "​",
            "style": "IPY_MODEL_5da197a6d4314caf97caabd54e7f9cc9",
            "value": " 8.02k/8.02k [00:00&lt;00:00, 362kB/s]"
          }
        },
        "77f603d03c28440f849969976468dbf4": {
          "model_module": "@jupyter-widgets/base",
          "model_module_version": "1.2.0",
          "model_name": "LayoutModel",
          "state": {
            "_model_module": "@jupyter-widgets/base",
            "_model_module_version": "1.2.0",
            "_model_name": "LayoutModel",
            "_view_count": null,
            "_view_module": "@jupyter-widgets/base",
            "_view_module_version": "1.2.0",
            "_view_name": "LayoutView",
            "align_content": null,
            "align_items": null,
            "align_self": null,
            "border": null,
            "bottom": null,
            "display": null,
            "flex": null,
            "flex_flow": null,
            "grid_area": null,
            "grid_auto_columns": null,
            "grid_auto_flow": null,
            "grid_auto_rows": null,
            "grid_column": null,
            "grid_gap": null,
            "grid_row": null,
            "grid_template_areas": null,
            "grid_template_columns": null,
            "grid_template_rows": null,
            "height": null,
            "justify_content": null,
            "justify_items": null,
            "left": null,
            "margin": null,
            "max_height": null,
            "max_width": null,
            "min_height": null,
            "min_width": null,
            "object_fit": null,
            "object_position": null,
            "order": null,
            "overflow": null,
            "overflow_x": null,
            "overflow_y": null,
            "padding": null,
            "right": null,
            "top": null,
            "visibility": null,
            "width": null
          }
        },
        "786c938df69941e493225204e3456a8e": {
          "model_module": "@jupyter-widgets/controls",
          "model_module_version": "1.5.0",
          "model_name": "HBoxModel",
          "state": {
            "_dom_classes": [],
            "_model_module": "@jupyter-widgets/controls",
            "_model_module_version": "1.5.0",
            "_model_name": "HBoxModel",
            "_view_count": null,
            "_view_module": "@jupyter-widgets/controls",
            "_view_module_version": "1.5.0",
            "_view_name": "HBoxView",
            "box_style": "",
            "children": [
              "IPY_MODEL_17e4959b6b05417688d89e186aac3ce6",
              "IPY_MODEL_90d4654a65c64d3d895944f576e78c33",
              "IPY_MODEL_287ce4c4f2844b53b7100f385c15ce9a"
            ],
            "layout": "IPY_MODEL_caf5ae5192544a20934c617aea005f4f"
          }
        },
        "7b38b7ebc30b49589d2108790b7c4f0d": {
          "model_module": "@jupyter-widgets/base",
          "model_module_version": "1.2.0",
          "model_name": "LayoutModel",
          "state": {
            "_model_module": "@jupyter-widgets/base",
            "_model_module_version": "1.2.0",
            "_model_name": "LayoutModel",
            "_view_count": null,
            "_view_module": "@jupyter-widgets/base",
            "_view_module_version": "1.2.0",
            "_view_name": "LayoutView",
            "align_content": null,
            "align_items": null,
            "align_self": null,
            "border": null,
            "bottom": null,
            "display": null,
            "flex": null,
            "flex_flow": null,
            "grid_area": null,
            "grid_auto_columns": null,
            "grid_auto_flow": null,
            "grid_auto_rows": null,
            "grid_column": null,
            "grid_gap": null,
            "grid_row": null,
            "grid_template_areas": null,
            "grid_template_columns": null,
            "grid_template_rows": null,
            "height": null,
            "justify_content": null,
            "justify_items": null,
            "left": null,
            "margin": null,
            "max_height": null,
            "max_width": null,
            "min_height": null,
            "min_width": null,
            "object_fit": null,
            "object_position": null,
            "order": null,
            "overflow": null,
            "overflow_x": null,
            "overflow_y": null,
            "padding": null,
            "right": null,
            "top": null,
            "visibility": null,
            "width": null
          }
        },
        "7f781da546054ed58139434c6fc33231": {
          "model_module": "@jupyter-widgets/base",
          "model_module_version": "1.2.0",
          "model_name": "LayoutModel",
          "state": {
            "_model_module": "@jupyter-widgets/base",
            "_model_module_version": "1.2.0",
            "_model_name": "LayoutModel",
            "_view_count": null,
            "_view_module": "@jupyter-widgets/base",
            "_view_module_version": "1.2.0",
            "_view_name": "LayoutView",
            "align_content": null,
            "align_items": null,
            "align_self": null,
            "border": null,
            "bottom": null,
            "display": null,
            "flex": null,
            "flex_flow": null,
            "grid_area": null,
            "grid_auto_columns": null,
            "grid_auto_flow": null,
            "grid_auto_rows": null,
            "grid_column": null,
            "grid_gap": null,
            "grid_row": null,
            "grid_template_areas": null,
            "grid_template_columns": null,
            "grid_template_rows": null,
            "height": null,
            "justify_content": null,
            "justify_items": null,
            "left": null,
            "margin": null,
            "max_height": null,
            "max_width": null,
            "min_height": null,
            "min_width": null,
            "object_fit": null,
            "object_position": null,
            "order": null,
            "overflow": null,
            "overflow_x": null,
            "overflow_y": null,
            "padding": null,
            "right": null,
            "top": null,
            "visibility": null,
            "width": null
          }
        },
        "83d9f76428314a76999ba28caca7f344": {
          "model_module": "@jupyter-widgets/controls",
          "model_module_version": "1.5.0",
          "model_name": "FloatProgressModel",
          "state": {
            "_dom_classes": [],
            "_model_module": "@jupyter-widgets/controls",
            "_model_module_version": "1.5.0",
            "_model_name": "FloatProgressModel",
            "_view_count": null,
            "_view_module": "@jupyter-widgets/controls",
            "_view_module_version": "1.5.0",
            "_view_name": "ProgressView",
            "bar_style": "success",
            "description": "",
            "description_tooltip": null,
            "layout": "IPY_MODEL_174ffcf1ef044f82a93c4a32d71011d3",
            "max": 8019,
            "min": 0,
            "orientation": "horizontal",
            "style": "IPY_MODEL_9c7490b04c134136acd04130a6fd4483",
            "value": 8019
          }
        },
        "84e6ab00d3f0465390cbc263d039fded": {
          "model_module": "@jupyter-widgets/controls",
          "model_module_version": "1.5.0",
          "model_name": "HBoxModel",
          "state": {
            "_dom_classes": [],
            "_model_module": "@jupyter-widgets/controls",
            "_model_module_version": "1.5.0",
            "_model_name": "HBoxModel",
            "_view_count": null,
            "_view_module": "@jupyter-widgets/controls",
            "_view_module_version": "1.5.0",
            "_view_name": "HBoxView",
            "box_style": "",
            "children": [
              "IPY_MODEL_6f35914d6e7440b5ae0aa2b2b78f8b1b",
              "IPY_MODEL_f65dfeddb7384640af45149a30592001",
              "IPY_MODEL_357d0f8d761941bba67eddf5599afd88"
            ],
            "layout": "IPY_MODEL_3b9fa6a4564f4adbab165cd431142825"
          }
        },
        "858e0ec2ad074c308c921794059e31fd": {
          "model_module": "@jupyter-widgets/base",
          "model_module_version": "1.2.0",
          "model_name": "LayoutModel",
          "state": {
            "_model_module": "@jupyter-widgets/base",
            "_model_module_version": "1.2.0",
            "_model_name": "LayoutModel",
            "_view_count": null,
            "_view_module": "@jupyter-widgets/base",
            "_view_module_version": "1.2.0",
            "_view_name": "LayoutView",
            "align_content": null,
            "align_items": null,
            "align_self": null,
            "border": null,
            "bottom": null,
            "display": null,
            "flex": null,
            "flex_flow": null,
            "grid_area": null,
            "grid_auto_columns": null,
            "grid_auto_flow": null,
            "grid_auto_rows": null,
            "grid_column": null,
            "grid_gap": null,
            "grid_row": null,
            "grid_template_areas": null,
            "grid_template_columns": null,
            "grid_template_rows": null,
            "height": null,
            "justify_content": null,
            "justify_items": null,
            "left": null,
            "margin": null,
            "max_height": null,
            "max_width": null,
            "min_height": null,
            "min_width": null,
            "object_fit": null,
            "object_position": null,
            "order": null,
            "overflow": null,
            "overflow_x": null,
            "overflow_y": null,
            "padding": null,
            "right": null,
            "top": null,
            "visibility": null,
            "width": null
          }
        },
        "8cecfa4c277846e194782663201fb8d6": {
          "model_module": "@jupyter-widgets/base",
          "model_module_version": "1.2.0",
          "model_name": "LayoutModel",
          "state": {
            "_model_module": "@jupyter-widgets/base",
            "_model_module_version": "1.2.0",
            "_model_name": "LayoutModel",
            "_view_count": null,
            "_view_module": "@jupyter-widgets/base",
            "_view_module_version": "1.2.0",
            "_view_name": "LayoutView",
            "align_content": null,
            "align_items": null,
            "align_self": null,
            "border": null,
            "bottom": null,
            "display": null,
            "flex": null,
            "flex_flow": null,
            "grid_area": null,
            "grid_auto_columns": null,
            "grid_auto_flow": null,
            "grid_auto_rows": null,
            "grid_column": null,
            "grid_gap": null,
            "grid_row": null,
            "grid_template_areas": null,
            "grid_template_columns": null,
            "grid_template_rows": null,
            "height": null,
            "justify_content": null,
            "justify_items": null,
            "left": null,
            "margin": null,
            "max_height": null,
            "max_width": null,
            "min_height": null,
            "min_width": null,
            "object_fit": null,
            "object_position": null,
            "order": null,
            "overflow": null,
            "overflow_x": null,
            "overflow_y": null,
            "padding": null,
            "right": null,
            "top": null,
            "visibility": null,
            "width": null
          }
        },
        "8ebcb68fb39f4e46b4db63504a36ce90": {
          "model_module": "@jupyter-widgets/base",
          "model_module_version": "1.2.0",
          "model_name": "LayoutModel",
          "state": {
            "_model_module": "@jupyter-widgets/base",
            "_model_module_version": "1.2.0",
            "_model_name": "LayoutModel",
            "_view_count": null,
            "_view_module": "@jupyter-widgets/base",
            "_view_module_version": "1.2.0",
            "_view_name": "LayoutView",
            "align_content": null,
            "align_items": null,
            "align_self": null,
            "border": null,
            "bottom": null,
            "display": null,
            "flex": null,
            "flex_flow": null,
            "grid_area": null,
            "grid_auto_columns": null,
            "grid_auto_flow": null,
            "grid_auto_rows": null,
            "grid_column": null,
            "grid_gap": null,
            "grid_row": null,
            "grid_template_areas": null,
            "grid_template_columns": null,
            "grid_template_rows": null,
            "height": null,
            "justify_content": null,
            "justify_items": null,
            "left": null,
            "margin": null,
            "max_height": null,
            "max_width": null,
            "min_height": null,
            "min_width": null,
            "object_fit": null,
            "object_position": null,
            "order": null,
            "overflow": null,
            "overflow_x": null,
            "overflow_y": null,
            "padding": null,
            "right": null,
            "top": null,
            "visibility": null,
            "width": null
          }
        },
        "90d4654a65c64d3d895944f576e78c33": {
          "model_module": "@jupyter-widgets/controls",
          "model_module_version": "1.5.0",
          "model_name": "FloatProgressModel",
          "state": {
            "_dom_classes": [],
            "_model_module": "@jupyter-widgets/controls",
            "_model_module_version": "1.5.0",
            "_model_name": "FloatProgressModel",
            "_view_count": null,
            "_view_module": "@jupyter-widgets/controls",
            "_view_module_version": "1.5.0",
            "_view_name": "ProgressView",
            "bar_style": "success",
            "description": "",
            "description_tooltip": null,
            "layout": "IPY_MODEL_91eb268392ad4610a022ad9eeb53b576",
            "max": 1683230721,
            "min": 0,
            "orientation": "horizontal",
            "style": "IPY_MODEL_561d9c14e6474c7c85ee22fc18cdb251",
            "value": 1683230721
          }
        },
        "91e559ec526c4a258bcfd156df04403a": {
          "model_module": "@jupyter-widgets/controls",
          "model_module_version": "1.5.0",
          "model_name": "DescriptionStyleModel",
          "state": {
            "_model_module": "@jupyter-widgets/controls",
            "_model_module_version": "1.5.0",
            "_model_name": "DescriptionStyleModel",
            "_view_count": null,
            "_view_module": "@jupyter-widgets/base",
            "_view_module_version": "1.2.0",
            "_view_name": "StyleView",
            "description_width": ""
          }
        },
        "91eb268392ad4610a022ad9eeb53b576": {
          "model_module": "@jupyter-widgets/base",
          "model_module_version": "1.2.0",
          "model_name": "LayoutModel",
          "state": {
            "_model_module": "@jupyter-widgets/base",
            "_model_module_version": "1.2.0",
            "_model_name": "LayoutModel",
            "_view_count": null,
            "_view_module": "@jupyter-widgets/base",
            "_view_module_version": "1.2.0",
            "_view_name": "LayoutView",
            "align_content": null,
            "align_items": null,
            "align_self": null,
            "border": null,
            "bottom": null,
            "display": null,
            "flex": null,
            "flex_flow": null,
            "grid_area": null,
            "grid_auto_columns": null,
            "grid_auto_flow": null,
            "grid_auto_rows": null,
            "grid_column": null,
            "grid_gap": null,
            "grid_row": null,
            "grid_template_areas": null,
            "grid_template_columns": null,
            "grid_template_rows": null,
            "height": null,
            "justify_content": null,
            "justify_items": null,
            "left": null,
            "margin": null,
            "max_height": null,
            "max_width": null,
            "min_height": null,
            "min_width": null,
            "object_fit": null,
            "object_position": null,
            "order": null,
            "overflow": null,
            "overflow_x": null,
            "overflow_y": null,
            "padding": null,
            "right": null,
            "top": null,
            "visibility": null,
            "width": null
          }
        },
        "996485e0c7e547688b5c40b0549f9dff": {
          "model_module": "@jupyter-widgets/controls",
          "model_module_version": "1.5.0",
          "model_name": "ProgressStyleModel",
          "state": {
            "_model_module": "@jupyter-widgets/controls",
            "_model_module_version": "1.5.0",
            "_model_name": "ProgressStyleModel",
            "_view_count": null,
            "_view_module": "@jupyter-widgets/base",
            "_view_module_version": "1.2.0",
            "_view_name": "StyleView",
            "bar_color": null,
            "description_width": ""
          }
        },
        "9c7490b04c134136acd04130a6fd4483": {
          "model_module": "@jupyter-widgets/controls",
          "model_module_version": "1.5.0",
          "model_name": "ProgressStyleModel",
          "state": {
            "_model_module": "@jupyter-widgets/controls",
            "_model_module_version": "1.5.0",
            "_model_name": "ProgressStyleModel",
            "_view_count": null,
            "_view_module": "@jupyter-widgets/base",
            "_view_module_version": "1.2.0",
            "_view_name": "StyleView",
            "bar_color": null,
            "description_width": ""
          }
        },
        "9d9427936e874849b625bf741087bf81": {
          "model_module": "@jupyter-widgets/controls",
          "model_module_version": "1.5.0",
          "model_name": "ProgressStyleModel",
          "state": {
            "_model_module": "@jupyter-widgets/controls",
            "_model_module_version": "1.5.0",
            "_model_name": "ProgressStyleModel",
            "_view_count": null,
            "_view_module": "@jupyter-widgets/base",
            "_view_module_version": "1.2.0",
            "_view_name": "StyleView",
            "bar_color": null,
            "description_width": ""
          }
        },
        "a1c51dc4bec64c2787890f14ac0203ab": {
          "model_module": "@jupyter-widgets/base",
          "model_module_version": "1.2.0",
          "model_name": "LayoutModel",
          "state": {
            "_model_module": "@jupyter-widgets/base",
            "_model_module_version": "1.2.0",
            "_model_name": "LayoutModel",
            "_view_count": null,
            "_view_module": "@jupyter-widgets/base",
            "_view_module_version": "1.2.0",
            "_view_name": "LayoutView",
            "align_content": null,
            "align_items": null,
            "align_self": null,
            "border": null,
            "bottom": null,
            "display": null,
            "flex": null,
            "flex_flow": null,
            "grid_area": null,
            "grid_auto_columns": null,
            "grid_auto_flow": null,
            "grid_auto_rows": null,
            "grid_column": null,
            "grid_gap": null,
            "grid_row": null,
            "grid_template_areas": null,
            "grid_template_columns": null,
            "grid_template_rows": null,
            "height": null,
            "justify_content": null,
            "justify_items": null,
            "left": null,
            "margin": null,
            "max_height": null,
            "max_width": null,
            "min_height": null,
            "min_width": null,
            "object_fit": null,
            "object_position": null,
            "order": null,
            "overflow": null,
            "overflow_x": null,
            "overflow_y": null,
            "padding": null,
            "right": null,
            "top": null,
            "visibility": null,
            "width": null
          }
        },
        "a6812dcf448647f48681006dbdf35134": {
          "model_module": "@jupyter-widgets/controls",
          "model_module_version": "1.5.0",
          "model_name": "DescriptionStyleModel",
          "state": {
            "_model_module": "@jupyter-widgets/controls",
            "_model_module_version": "1.5.0",
            "_model_name": "DescriptionStyleModel",
            "_view_count": null,
            "_view_module": "@jupyter-widgets/base",
            "_view_module_version": "1.2.0",
            "_view_name": "StyleView",
            "description_width": ""
          }
        },
        "a7903d167b1a4b7b9e47192a609ab9fd": {
          "model_module": "@jupyter-widgets/controls",
          "model_module_version": "1.5.0",
          "model_name": "HBoxModel",
          "state": {
            "_dom_classes": [],
            "_model_module": "@jupyter-widgets/controls",
            "_model_module_version": "1.5.0",
            "_model_name": "HBoxModel",
            "_view_count": null,
            "_view_module": "@jupyter-widgets/controls",
            "_view_module_version": "1.5.0",
            "_view_name": "HBoxView",
            "box_style": "",
            "children": [
              "IPY_MODEL_6b072689962b433fa680bb277ab791e8",
              "IPY_MODEL_57b2c9b8547245cca1bee542cf947b64",
              "IPY_MODEL_62a0abd361c34979bf8c0c47a1737a01"
            ],
            "layout": "IPY_MODEL_47d4e3ba130140938824cbde8bb45df9"
          }
        },
        "ab077446eea0457abf6e23ea22076beb": {
          "model_module": "@jupyter-widgets/base",
          "model_module_version": "1.2.0",
          "model_name": "LayoutModel",
          "state": {
            "_model_module": "@jupyter-widgets/base",
            "_model_module_version": "1.2.0",
            "_model_name": "LayoutModel",
            "_view_count": null,
            "_view_module": "@jupyter-widgets/base",
            "_view_module_version": "1.2.0",
            "_view_name": "LayoutView",
            "align_content": null,
            "align_items": null,
            "align_self": null,
            "border": null,
            "bottom": null,
            "display": null,
            "flex": null,
            "flex_flow": null,
            "grid_area": null,
            "grid_auto_columns": null,
            "grid_auto_flow": null,
            "grid_auto_rows": null,
            "grid_column": null,
            "grid_gap": null,
            "grid_row": null,
            "grid_template_areas": null,
            "grid_template_columns": null,
            "grid_template_rows": null,
            "height": null,
            "justify_content": null,
            "justify_items": null,
            "left": null,
            "margin": null,
            "max_height": null,
            "max_width": null,
            "min_height": null,
            "min_width": null,
            "object_fit": null,
            "object_position": null,
            "order": null,
            "overflow": null,
            "overflow_x": null,
            "overflow_y": null,
            "padding": null,
            "right": null,
            "top": null,
            "visibility": null,
            "width": null
          }
        },
        "b4dd0cd1149949b09003b4bc8648ae38": {
          "model_module": "@jupyter-widgets/base",
          "model_module_version": "1.2.0",
          "model_name": "LayoutModel",
          "state": {
            "_model_module": "@jupyter-widgets/base",
            "_model_module_version": "1.2.0",
            "_model_name": "LayoutModel",
            "_view_count": null,
            "_view_module": "@jupyter-widgets/base",
            "_view_module_version": "1.2.0",
            "_view_name": "LayoutView",
            "align_content": null,
            "align_items": null,
            "align_self": null,
            "border": null,
            "bottom": null,
            "display": null,
            "flex": null,
            "flex_flow": null,
            "grid_area": null,
            "grid_auto_columns": null,
            "grid_auto_flow": null,
            "grid_auto_rows": null,
            "grid_column": null,
            "grid_gap": null,
            "grid_row": null,
            "grid_template_areas": null,
            "grid_template_columns": null,
            "grid_template_rows": null,
            "height": null,
            "justify_content": null,
            "justify_items": null,
            "left": null,
            "margin": null,
            "max_height": null,
            "max_width": null,
            "min_height": null,
            "min_width": null,
            "object_fit": null,
            "object_position": null,
            "order": null,
            "overflow": null,
            "overflow_x": null,
            "overflow_y": null,
            "padding": null,
            "right": null,
            "top": null,
            "visibility": null,
            "width": null
          }
        },
        "b9e17e7742184f09b9a7c9bed6138456": {
          "model_module": "@jupyter-widgets/controls",
          "model_module_version": "1.5.0",
          "model_name": "DescriptionStyleModel",
          "state": {
            "_model_module": "@jupyter-widgets/controls",
            "_model_module_version": "1.5.0",
            "_model_name": "DescriptionStyleModel",
            "_view_count": null,
            "_view_module": "@jupyter-widgets/base",
            "_view_module_version": "1.2.0",
            "_view_name": "StyleView",
            "description_width": ""
          }
        },
        "bdc15afc5dbc427693f04269481e0d1a": {
          "model_module": "@jupyter-widgets/base",
          "model_module_version": "1.2.0",
          "model_name": "LayoutModel",
          "state": {
            "_model_module": "@jupyter-widgets/base",
            "_model_module_version": "1.2.0",
            "_model_name": "LayoutModel",
            "_view_count": null,
            "_view_module": "@jupyter-widgets/base",
            "_view_module_version": "1.2.0",
            "_view_name": "LayoutView",
            "align_content": null,
            "align_items": null,
            "align_self": null,
            "border": null,
            "bottom": null,
            "display": null,
            "flex": null,
            "flex_flow": null,
            "grid_area": null,
            "grid_auto_columns": null,
            "grid_auto_flow": null,
            "grid_auto_rows": null,
            "grid_column": null,
            "grid_gap": null,
            "grid_row": null,
            "grid_template_areas": null,
            "grid_template_columns": null,
            "grid_template_rows": null,
            "height": null,
            "justify_content": null,
            "justify_items": null,
            "left": null,
            "margin": null,
            "max_height": null,
            "max_width": null,
            "min_height": null,
            "min_width": null,
            "object_fit": null,
            "object_position": null,
            "order": null,
            "overflow": null,
            "overflow_x": null,
            "overflow_y": null,
            "padding": null,
            "right": null,
            "top": null,
            "visibility": null,
            "width": "20px"
          }
        },
        "c079275850ef46018c297b8ecfc6c9f6": {
          "model_module": "@jupyter-widgets/controls",
          "model_module_version": "1.5.0",
          "model_name": "HBoxModel",
          "state": {
            "_dom_classes": [],
            "_model_module": "@jupyter-widgets/controls",
            "_model_module_version": "1.5.0",
            "_model_name": "HBoxModel",
            "_view_count": null,
            "_view_module": "@jupyter-widgets/controls",
            "_view_module_version": "1.5.0",
            "_view_name": "HBoxView",
            "box_style": "",
            "children": [
              "IPY_MODEL_2101feaba90c4570be9699d688b8aaea",
              "IPY_MODEL_d999aa6974704f57ac4aa3d4c17432b8",
              "IPY_MODEL_4c98ec78511747d8b3cb310632515500"
            ],
            "layout": "IPY_MODEL_4a7f8cfecd9a40799371eb0095bddc6f"
          }
        },
        "c4d0e1a17a064d479c64c2500d3dc5c6": {
          "model_module": "@jupyter-widgets/controls",
          "model_module_version": "1.5.0",
          "model_name": "ProgressStyleModel",
          "state": {
            "_model_module": "@jupyter-widgets/controls",
            "_model_module_version": "1.5.0",
            "_model_name": "ProgressStyleModel",
            "_view_count": null,
            "_view_module": "@jupyter-widgets/base",
            "_view_module_version": "1.2.0",
            "_view_name": "StyleView",
            "bar_color": null,
            "description_width": ""
          }
        },
        "c9097e9e2eb24faab2931710838132e0": {
          "model_module": "@jupyter-widgets/controls",
          "model_module_version": "1.5.0",
          "model_name": "HTMLModel",
          "state": {
            "_dom_classes": [],
            "_model_module": "@jupyter-widgets/controls",
            "_model_module_version": "1.5.0",
            "_model_name": "HTMLModel",
            "_view_count": null,
            "_view_module": "@jupyter-widgets/controls",
            "_view_module_version": "1.5.0",
            "_view_name": "HTMLView",
            "description": "",
            "description_tooltip": null,
            "layout": "IPY_MODEL_c967a2533d1246faaef17565efd3a673",
            "placeholder": "​",
            "style": "IPY_MODEL_e7b86647539644289a8ed571415e1d6a",
            "value": "Downloading data files: 100%"
          }
        },
        "c92b9c21960b4faf9f5a9691c33b96e1": {
          "model_module": "@jupyter-widgets/base",
          "model_module_version": "1.2.0",
          "model_name": "LayoutModel",
          "state": {
            "_model_module": "@jupyter-widgets/base",
            "_model_module_version": "1.2.0",
            "_model_name": "LayoutModel",
            "_view_count": null,
            "_view_module": "@jupyter-widgets/base",
            "_view_module_version": "1.2.0",
            "_view_name": "LayoutView",
            "align_content": null,
            "align_items": null,
            "align_self": null,
            "border": null,
            "bottom": null,
            "display": null,
            "flex": null,
            "flex_flow": null,
            "grid_area": null,
            "grid_auto_columns": null,
            "grid_auto_flow": null,
            "grid_auto_rows": null,
            "grid_column": null,
            "grid_gap": null,
            "grid_row": null,
            "grid_template_areas": null,
            "grid_template_columns": null,
            "grid_template_rows": null,
            "height": null,
            "justify_content": null,
            "justify_items": null,
            "left": null,
            "margin": null,
            "max_height": null,
            "max_width": null,
            "min_height": null,
            "min_width": null,
            "object_fit": null,
            "object_position": null,
            "order": null,
            "overflow": null,
            "overflow_x": null,
            "overflow_y": null,
            "padding": null,
            "right": null,
            "top": null,
            "visibility": null,
            "width": null
          }
        },
        "c9418c6aabf947c8a253f685f66b7b7f": {
          "model_module": "@jupyter-widgets/controls",
          "model_module_version": "1.5.0",
          "model_name": "DescriptionStyleModel",
          "state": {
            "_model_module": "@jupyter-widgets/controls",
            "_model_module_version": "1.5.0",
            "_model_name": "DescriptionStyleModel",
            "_view_count": null,
            "_view_module": "@jupyter-widgets/base",
            "_view_module_version": "1.2.0",
            "_view_name": "StyleView",
            "description_width": ""
          }
        },
        "c967a2533d1246faaef17565efd3a673": {
          "model_module": "@jupyter-widgets/base",
          "model_module_version": "1.2.0",
          "model_name": "LayoutModel",
          "state": {
            "_model_module": "@jupyter-widgets/base",
            "_model_module_version": "1.2.0",
            "_model_name": "LayoutModel",
            "_view_count": null,
            "_view_module": "@jupyter-widgets/base",
            "_view_module_version": "1.2.0",
            "_view_name": "LayoutView",
            "align_content": null,
            "align_items": null,
            "align_self": null,
            "border": null,
            "bottom": null,
            "display": null,
            "flex": null,
            "flex_flow": null,
            "grid_area": null,
            "grid_auto_columns": null,
            "grid_auto_flow": null,
            "grid_auto_rows": null,
            "grid_column": null,
            "grid_gap": null,
            "grid_row": null,
            "grid_template_areas": null,
            "grid_template_columns": null,
            "grid_template_rows": null,
            "height": null,
            "justify_content": null,
            "justify_items": null,
            "left": null,
            "margin": null,
            "max_height": null,
            "max_width": null,
            "min_height": null,
            "min_width": null,
            "object_fit": null,
            "object_position": null,
            "order": null,
            "overflow": null,
            "overflow_x": null,
            "overflow_y": null,
            "padding": null,
            "right": null,
            "top": null,
            "visibility": null,
            "width": null
          }
        },
        "ca1d9ec18a1043b3bb1beaa5fae8c1c0": {
          "model_module": "@jupyter-widgets/base",
          "model_module_version": "1.2.0",
          "model_name": "LayoutModel",
          "state": {
            "_model_module": "@jupyter-widgets/base",
            "_model_module_version": "1.2.0",
            "_model_name": "LayoutModel",
            "_view_count": null,
            "_view_module": "@jupyter-widgets/base",
            "_view_module_version": "1.2.0",
            "_view_name": "LayoutView",
            "align_content": null,
            "align_items": null,
            "align_self": null,
            "border": null,
            "bottom": null,
            "display": null,
            "flex": null,
            "flex_flow": null,
            "grid_area": null,
            "grid_auto_columns": null,
            "grid_auto_flow": null,
            "grid_auto_rows": null,
            "grid_column": null,
            "grid_gap": null,
            "grid_row": null,
            "grid_template_areas": null,
            "grid_template_columns": null,
            "grid_template_rows": null,
            "height": null,
            "justify_content": null,
            "justify_items": null,
            "left": null,
            "margin": null,
            "max_height": null,
            "max_width": null,
            "min_height": null,
            "min_width": null,
            "object_fit": null,
            "object_position": null,
            "order": null,
            "overflow": null,
            "overflow_x": null,
            "overflow_y": null,
            "padding": null,
            "right": null,
            "top": null,
            "visibility": null,
            "width": "20px"
          }
        },
        "caf5ae5192544a20934c617aea005f4f": {
          "model_module": "@jupyter-widgets/base",
          "model_module_version": "1.2.0",
          "model_name": "LayoutModel",
          "state": {
            "_model_module": "@jupyter-widgets/base",
            "_model_module_version": "1.2.0",
            "_model_name": "LayoutModel",
            "_view_count": null,
            "_view_module": "@jupyter-widgets/base",
            "_view_module_version": "1.2.0",
            "_view_name": "LayoutView",
            "align_content": null,
            "align_items": null,
            "align_self": null,
            "border": null,
            "bottom": null,
            "display": null,
            "flex": null,
            "flex_flow": null,
            "grid_area": null,
            "grid_auto_columns": null,
            "grid_auto_flow": null,
            "grid_auto_rows": null,
            "grid_column": null,
            "grid_gap": null,
            "grid_row": null,
            "grid_template_areas": null,
            "grid_template_columns": null,
            "grid_template_rows": null,
            "height": null,
            "justify_content": null,
            "justify_items": null,
            "left": null,
            "margin": null,
            "max_height": null,
            "max_width": null,
            "min_height": null,
            "min_width": null,
            "object_fit": null,
            "object_position": null,
            "order": null,
            "overflow": null,
            "overflow_x": null,
            "overflow_y": null,
            "padding": null,
            "right": null,
            "top": null,
            "visibility": null,
            "width": null
          }
        },
        "cc6a3099debe453d90ee2daeb3877f55": {
          "model_module": "@jupyter-widgets/base",
          "model_module_version": "1.2.0",
          "model_name": "LayoutModel",
          "state": {
            "_model_module": "@jupyter-widgets/base",
            "_model_module_version": "1.2.0",
            "_model_name": "LayoutModel",
            "_view_count": null,
            "_view_module": "@jupyter-widgets/base",
            "_view_module_version": "1.2.0",
            "_view_name": "LayoutView",
            "align_content": null,
            "align_items": null,
            "align_self": null,
            "border": null,
            "bottom": null,
            "display": null,
            "flex": null,
            "flex_flow": null,
            "grid_area": null,
            "grid_auto_columns": null,
            "grid_auto_flow": null,
            "grid_auto_rows": null,
            "grid_column": null,
            "grid_gap": null,
            "grid_row": null,
            "grid_template_areas": null,
            "grid_template_columns": null,
            "grid_template_rows": null,
            "height": null,
            "justify_content": null,
            "justify_items": null,
            "left": null,
            "margin": null,
            "max_height": null,
            "max_width": null,
            "min_height": null,
            "min_width": null,
            "object_fit": null,
            "object_position": null,
            "order": null,
            "overflow": null,
            "overflow_x": null,
            "overflow_y": null,
            "padding": null,
            "right": null,
            "top": null,
            "visibility": null,
            "width": null
          }
        },
        "ce130ae68b204f6c97fd503727a5ba35": {
          "model_module": "@jupyter-widgets/controls",
          "model_module_version": "1.5.0",
          "model_name": "DescriptionStyleModel",
          "state": {
            "_model_module": "@jupyter-widgets/controls",
            "_model_module_version": "1.5.0",
            "_model_name": "DescriptionStyleModel",
            "_view_count": null,
            "_view_module": "@jupyter-widgets/base",
            "_view_module_version": "1.2.0",
            "_view_name": "StyleView",
            "description_width": ""
          }
        },
        "d6fe3a39154c4a3c95a21ff6002c7122": {
          "model_module": "@jupyter-widgets/base",
          "model_module_version": "1.2.0",
          "model_name": "LayoutModel",
          "state": {
            "_model_module": "@jupyter-widgets/base",
            "_model_module_version": "1.2.0",
            "_model_name": "LayoutModel",
            "_view_count": null,
            "_view_module": "@jupyter-widgets/base",
            "_view_module_version": "1.2.0",
            "_view_name": "LayoutView",
            "align_content": null,
            "align_items": null,
            "align_self": null,
            "border": null,
            "bottom": null,
            "display": null,
            "flex": null,
            "flex_flow": null,
            "grid_area": null,
            "grid_auto_columns": null,
            "grid_auto_flow": null,
            "grid_auto_rows": null,
            "grid_column": null,
            "grid_gap": null,
            "grid_row": null,
            "grid_template_areas": null,
            "grid_template_columns": null,
            "grid_template_rows": null,
            "height": null,
            "justify_content": null,
            "justify_items": null,
            "left": null,
            "margin": null,
            "max_height": null,
            "max_width": null,
            "min_height": null,
            "min_width": null,
            "object_fit": null,
            "object_position": null,
            "order": null,
            "overflow": null,
            "overflow_x": null,
            "overflow_y": null,
            "padding": null,
            "right": null,
            "top": null,
            "visibility": null,
            "width": null
          }
        },
        "d999aa6974704f57ac4aa3d4c17432b8": {
          "model_module": "@jupyter-widgets/controls",
          "model_module_version": "1.5.0",
          "model_name": "FloatProgressModel",
          "state": {
            "_dom_classes": [],
            "_model_module": "@jupyter-widgets/controls",
            "_model_module_version": "1.5.0",
            "_model_name": "FloatProgressModel",
            "_view_count": null,
            "_view_module": "@jupyter-widgets/controls",
            "_view_module_version": "1.5.0",
            "_view_name": "ProgressView",
            "bar_style": "success",
            "description": "",
            "description_tooltip": null,
            "layout": "IPY_MODEL_ca1d9ec18a1043b3bb1beaa5fae8c1c0",
            "max": 1,
            "min": 0,
            "orientation": "horizontal",
            "style": "IPY_MODEL_c4d0e1a17a064d479c64c2500d3dc5c6",
            "value": 1
          }
        },
        "dae6802ccea049b796dc1ee6fd801a43": {
          "model_module": "@jupyter-widgets/controls",
          "model_module_version": "1.5.0",
          "model_name": "FloatProgressModel",
          "state": {
            "_dom_classes": [],
            "_model_module": "@jupyter-widgets/controls",
            "_model_module_version": "1.5.0",
            "_model_name": "FloatProgressModel",
            "_view_count": null,
            "_view_module": "@jupyter-widgets/controls",
            "_view_module_version": "1.5.0",
            "_view_name": "ProgressView",
            "bar_style": "success",
            "description": "",
            "description_tooltip": null,
            "layout": "IPY_MODEL_7f781da546054ed58139434c6fc33231",
            "max": 1,
            "min": 0,
            "orientation": "horizontal",
            "style": "IPY_MODEL_dbbce1d6c8bc4b888ab8993cc6a20c9b",
            "value": 1
          }
        },
        "dbbce1d6c8bc4b888ab8993cc6a20c9b": {
          "model_module": "@jupyter-widgets/controls",
          "model_module_version": "1.5.0",
          "model_name": "ProgressStyleModel",
          "state": {
            "_model_module": "@jupyter-widgets/controls",
            "_model_module_version": "1.5.0",
            "_model_name": "ProgressStyleModel",
            "_view_count": null,
            "_view_module": "@jupyter-widgets/base",
            "_view_module_version": "1.2.0",
            "_view_name": "StyleView",
            "bar_color": null,
            "description_width": ""
          }
        },
        "dd3565b98f234c4ba4de40572fdb0506": {
          "model_module": "@jupyter-widgets/base",
          "model_module_version": "1.2.0",
          "model_name": "LayoutModel",
          "state": {
            "_model_module": "@jupyter-widgets/base",
            "_model_module_version": "1.2.0",
            "_model_name": "LayoutModel",
            "_view_count": null,
            "_view_module": "@jupyter-widgets/base",
            "_view_module_version": "1.2.0",
            "_view_name": "LayoutView",
            "align_content": null,
            "align_items": null,
            "align_self": null,
            "border": null,
            "bottom": null,
            "display": null,
            "flex": null,
            "flex_flow": null,
            "grid_area": null,
            "grid_auto_columns": null,
            "grid_auto_flow": null,
            "grid_auto_rows": null,
            "grid_column": null,
            "grid_gap": null,
            "grid_row": null,
            "grid_template_areas": null,
            "grid_template_columns": null,
            "grid_template_rows": null,
            "height": null,
            "justify_content": null,
            "justify_items": null,
            "left": null,
            "margin": null,
            "max_height": null,
            "max_width": null,
            "min_height": null,
            "min_width": null,
            "object_fit": null,
            "object_position": null,
            "order": null,
            "overflow": null,
            "overflow_x": null,
            "overflow_y": null,
            "padding": null,
            "right": null,
            "top": null,
            "visibility": null,
            "width": null
          }
        },
        "de92e179bddf41238954fadddeb84a23": {
          "model_module": "@jupyter-widgets/controls",
          "model_module_version": "1.5.0",
          "model_name": "DescriptionStyleModel",
          "state": {
            "_model_module": "@jupyter-widgets/controls",
            "_model_module_version": "1.5.0",
            "_model_name": "DescriptionStyleModel",
            "_view_count": null,
            "_view_module": "@jupyter-widgets/base",
            "_view_module_version": "1.2.0",
            "_view_name": "StyleView",
            "description_width": ""
          }
        },
        "e7b86647539644289a8ed571415e1d6a": {
          "model_module": "@jupyter-widgets/controls",
          "model_module_version": "1.5.0",
          "model_name": "DescriptionStyleModel",
          "state": {
            "_model_module": "@jupyter-widgets/controls",
            "_model_module_version": "1.5.0",
            "_model_name": "DescriptionStyleModel",
            "_view_count": null,
            "_view_module": "@jupyter-widgets/base",
            "_view_module_version": "1.2.0",
            "_view_name": "StyleView",
            "description_width": ""
          }
        },
        "ed944cef6da64b77afbbb18d301c5b11": {
          "model_module": "@jupyter-widgets/controls",
          "model_module_version": "1.5.0",
          "model_name": "FloatProgressModel",
          "state": {
            "_dom_classes": [],
            "_model_module": "@jupyter-widgets/controls",
            "_model_module_version": "1.5.0",
            "_model_name": "FloatProgressModel",
            "_view_count": null,
            "_view_module": "@jupyter-widgets/controls",
            "_view_module_version": "1.5.0",
            "_view_name": "ProgressView",
            "bar_style": "success",
            "description": "",
            "description_tooltip": null,
            "layout": "IPY_MODEL_c92b9c21960b4faf9f5a9691c33b96e1",
            "max": 1,
            "min": 0,
            "orientation": "horizontal",
            "style": "IPY_MODEL_9d9427936e874849b625bf741087bf81",
            "value": 1
          }
        },
        "eff1602988c34aa2a5534fb769f29f53": {
          "model_module": "@jupyter-widgets/base",
          "model_module_version": "1.2.0",
          "model_name": "LayoutModel",
          "state": {
            "_model_module": "@jupyter-widgets/base",
            "_model_module_version": "1.2.0",
            "_model_name": "LayoutModel",
            "_view_count": null,
            "_view_module": "@jupyter-widgets/base",
            "_view_module_version": "1.2.0",
            "_view_name": "LayoutView",
            "align_content": null,
            "align_items": null,
            "align_self": null,
            "border": null,
            "bottom": null,
            "display": null,
            "flex": null,
            "flex_flow": null,
            "grid_area": null,
            "grid_auto_columns": null,
            "grid_auto_flow": null,
            "grid_auto_rows": null,
            "grid_column": null,
            "grid_gap": null,
            "grid_row": null,
            "grid_template_areas": null,
            "grid_template_columns": null,
            "grid_template_rows": null,
            "height": null,
            "justify_content": null,
            "justify_items": null,
            "left": null,
            "margin": null,
            "max_height": null,
            "max_width": null,
            "min_height": null,
            "min_width": null,
            "object_fit": null,
            "object_position": null,
            "order": null,
            "overflow": null,
            "overflow_x": null,
            "overflow_y": null,
            "padding": null,
            "right": null,
            "top": null,
            "visibility": null,
            "width": null
          }
        },
        "f093012bfaa544d3b962ec558d8c9aea": {
          "model_module": "@jupyter-widgets/controls",
          "model_module_version": "1.5.0",
          "model_name": "HTMLModel",
          "state": {
            "_dom_classes": [],
            "_model_module": "@jupyter-widgets/controls",
            "_model_module_version": "1.5.0",
            "_model_name": "HTMLModel",
            "_view_count": null,
            "_view_module": "@jupyter-widgets/controls",
            "_view_module_version": "1.5.0",
            "_view_name": "HTMLView",
            "description": "",
            "description_tooltip": null,
            "layout": "IPY_MODEL_8cecfa4c277846e194782663201fb8d6",
            "placeholder": "​",
            "style": "IPY_MODEL_f8a32f9f04ae42b785952a9a1c18f57d",
            "value": "Downloading readme: 100%"
          }
        },
        "f65dfeddb7384640af45149a30592001": {
          "model_module": "@jupyter-widgets/controls",
          "model_module_version": "1.5.0",
          "model_name": "FloatProgressModel",
          "state": {
            "_dom_classes": [],
            "_model_module": "@jupyter-widgets/controls",
            "_model_module_version": "1.5.0",
            "_model_name": "FloatProgressModel",
            "_view_count": null,
            "_view_module": "@jupyter-widgets/controls",
            "_view_module_version": "1.5.0",
            "_view_name": "ProgressView",
            "bar_style": "success",
            "description": "",
            "description_tooltip": null,
            "layout": "IPY_MODEL_cc6a3099debe453d90ee2daeb3877f55",
            "max": 8915,
            "min": 0,
            "orientation": "horizontal",
            "style": "IPY_MODEL_f73a2e6188404a16814296de6c9bcd40",
            "value": 8915
          }
        },
        "f73a2e6188404a16814296de6c9bcd40": {
          "model_module": "@jupyter-widgets/controls",
          "model_module_version": "1.5.0",
          "model_name": "ProgressStyleModel",
          "state": {
            "_model_module": "@jupyter-widgets/controls",
            "_model_module_version": "1.5.0",
            "_model_name": "ProgressStyleModel",
            "_view_count": null,
            "_view_module": "@jupyter-widgets/base",
            "_view_module_version": "1.2.0",
            "_view_name": "StyleView",
            "bar_color": null,
            "description_width": ""
          }
        },
        "f8a32f9f04ae42b785952a9a1c18f57d": {
          "model_module": "@jupyter-widgets/controls",
          "model_module_version": "1.5.0",
          "model_name": "DescriptionStyleModel",
          "state": {
            "_model_module": "@jupyter-widgets/controls",
            "_model_module_version": "1.5.0",
            "_model_name": "DescriptionStyleModel",
            "_view_count": null,
            "_view_module": "@jupyter-widgets/base",
            "_view_module_version": "1.2.0",
            "_view_name": "StyleView",
            "description_width": ""
          }
        },
        "fd7f89286aae452eb9973619d0c89ab2": {
          "model_module": "@jupyter-widgets/base",
          "model_module_version": "1.2.0",
          "model_name": "LayoutModel",
          "state": {
            "_model_module": "@jupyter-widgets/base",
            "_model_module_version": "1.2.0",
            "_model_name": "LayoutModel",
            "_view_count": null,
            "_view_module": "@jupyter-widgets/base",
            "_view_module_version": "1.2.0",
            "_view_name": "LayoutView",
            "align_content": null,
            "align_items": null,
            "align_self": null,
            "border": null,
            "bottom": null,
            "display": null,
            "flex": null,
            "flex_flow": null,
            "grid_area": null,
            "grid_auto_columns": null,
            "grid_auto_flow": null,
            "grid_auto_rows": null,
            "grid_column": null,
            "grid_gap": null,
            "grid_row": null,
            "grid_template_areas": null,
            "grid_template_columns": null,
            "grid_template_rows": null,
            "height": null,
            "justify_content": null,
            "justify_items": null,
            "left": null,
            "margin": null,
            "max_height": null,
            "max_width": null,
            "min_height": null,
            "min_width": null,
            "object_fit": null,
            "object_position": null,
            "order": null,
            "overflow": null,
            "overflow_x": null,
            "overflow_y": null,
            "padding": null,
            "right": null,
            "top": null,
            "visibility": null,
            "width": null
          }
        }
      }
    }
  },
  "nbformat": 4,
  "nbformat_minor": 0
}
